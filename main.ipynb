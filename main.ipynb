{
  "nbformat": 4,
  "nbformat_minor": 0,
  "metadata": {
    "colab": {
      "provenance": [],
      "authorship_tag": "ABX9TyM2vXzXQhLRn7q4QuBnPl9Q",
      "include_colab_link": true
    },
    "kernelspec": {
      "name": "python3",
      "display_name": "Python 3"
    },
    "language_info": {
      "name": "python"
    }
  },
  "cells": [
    {
      "cell_type": "markdown",
      "metadata": {
        "id": "view-in-github",
        "colab_type": "text"
      },
      "source": [
        "<a href=\"https://colab.research.google.com/github/SajidMajeed92/Data-Structures-Algorithms-with-Python/blob/main/main.ipynb\" target=\"_parent\"><img src=\"https://colab.research.google.com/assets/colab-badge.svg\" alt=\"Open In Colab\"/></a>"
      ]
    },
    {
      "cell_type": "code",
      "execution_count": null,
      "metadata": {
        "id": "_XuZHN66drMe"
      },
      "outputs": [],
      "source": [
        "from stack import Stack\n",
        "\n",
        "def is_match(p1, p2):\n",
        "    if p1 == \"(\" and p2 == \")\":\n",
        "        return True\n",
        "    elif p1 == \"{\" and p2 == \"}\":\n",
        "        return True\n",
        "    elif p1 == \"[\" and p2 == \"]\":\n",
        "        return True\n",
        "    else:\n",
        "        return False\n",
        "\n",
        "\n",
        "def is_paren_balanced(paren_string):\n",
        "    s = Stack()\n",
        "    is_balanced = True\n",
        "    index = 0\n",
        "\n",
        "    while index < len(paren_string) and is_balanced:\n",
        "        paren = paren_string[index]\n",
        "        if paren in \"([{\":\n",
        "            s.push(paren)\n",
        "        else:\n",
        "            if s.is_empty():\n",
        "                is_balanced = False\n",
        "                break\n",
        "            else:\n",
        "                top = s.pop()\n",
        "                if not is_match(top, paren):\n",
        "                    is_balanced = False\n",
        "                    break\n",
        "        index += 1\n",
        "\n",
        "    if s.is_empty() and is_balanced:\n",
        "        return True\n",
        "    else:\n",
        "        return False\n",
        "\n",
        "print(\"String : (((({})))) Balanced or not?\")\n",
        "print(is_paren_balanced(\"(((({}))))\"))\n",
        "\n",
        "print(\"String : [][]]] Balanced or not?\")\n",
        "print(is_paren_balanced(\"[][]]]\"))\n",
        "\n",
        "print(\"String : [][] Balanced or not?\")\n",
        "print(is_paren_balanced(\"[][]\"))"
      ]
    }
  ]
}
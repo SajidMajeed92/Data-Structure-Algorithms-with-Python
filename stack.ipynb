{
  "nbformat": 4,
  "nbformat_minor": 0,
  "metadata": {
    "colab": {
      "provenance": [],
      "authorship_tag": "ABX9TyMW0rAjQze9r/t4PXYgvTrh",
      "include_colab_link": true
    },
    "kernelspec": {
      "name": "python3",
      "display_name": "Python 3"
    },
    "language_info": {
      "name": "python"
    }
  },
  "cells": [
    {
      "cell_type": "markdown",
      "metadata": {
        "id": "view-in-github",
        "colab_type": "text"
      },
      "source": [
        "<a href=\"https://colab.research.google.com/github/SajidMajeed92/Data-Structures-Algorithms-with-Python/blob/main/stack.ipynb\" target=\"_parent\"><img src=\"https://colab.research.google.com/assets/colab-badge.svg\" alt=\"Open In Colab\"/></a>"
      ]
    },
    {
      "cell_type": "markdown",
      "source": [
        "**Stack Operations**\n"
      ],
      "metadata": {
        "id": "kYz6zIwLaokE"
      }
    },
    {
      "cell_type": "markdown",
      "source": [
        "**Push Operation** <br>\n",
        "The operation to insert elements in a stack is called push. When we push the book on a stack, we put the book on the previous top element which means that the new book becomes the top element. This is what we mean when we use the push operation, we push elements onto a stack. We insert elements onto a stack and the last element to be pushed is the new top of the stack.<br>\n",
        "**Pop** <br>\n",
        "There is another operation that we can perform on the stack, popping. Popping is when we take the top book of the stack and put it down. This implies that when we remove an element from the stack, the stack follows the First-In, Last Out property. This means that the top element, the last to be inserted, is removed when we perform the pop operation.\n",
        "\n",
        "Push and Pop are two fundamental routines that we’ll need for this data structure.\n",
        "\n",
        "**Peek** <br>\n",
        "Another thing that we can do is view the top element of the stack so we can ask the data structure: “What’s the top element?” and it can give that to us using the peek operation. Note that the peek operation does not remove the top element, it merely returns it."
      ],
      "metadata": {
        "id": "jf3-p5O7a4XH"
      }
    },
    {
      "cell_type": "code",
      "execution_count": 1,
      "metadata": {
        "colab": {
          "base_uri": "https://localhost:8080/"
        },
        "id": "XD3mFh6IGlFv",
        "outputId": "08320aea-5590-4cfb-9414-7ea427b43182"
      },
      "outputs": [
        {
          "output_type": "stream",
          "name": "stdout",
          "text": [
            "D\n"
          ]
        }
      ],
      "source": [
        "\"\"\"\n",
        "Stack Data Structure.\n",
        "\"\"\"\n",
        "class Stack():\n",
        "    def __init__(self):\n",
        "        self.items = []\n",
        "\n",
        "    def push(self, item):\n",
        "        self.items.append(item)\t\t\t\t\n",
        "\n",
        "    def pop(self):\n",
        "        return self.items.pop()\n",
        "    \n",
        "    def is_empty(self):\n",
        "        return self.items == []\n",
        "    \n",
        "    def peek(self):\n",
        "        if not self.is_empty():\n",
        "            return self.items[-1]\n",
        "        \n",
        "    def get_stack(self):\n",
        "        return self.items\n",
        "\n",
        "myStack = Stack()\n",
        "myStack.push(\"A\")\n",
        "myStack.push(\"B\")\n",
        "myStack.push(\"C\")\n",
        "myStack.push(\"D\")\n",
        "print(myStack.peek())"
      ]
    }
  ]
}
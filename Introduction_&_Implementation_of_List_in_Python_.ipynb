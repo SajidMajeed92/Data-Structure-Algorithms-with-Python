{
  "nbformat": 4,
  "nbformat_minor": 0,
  "metadata": {
    "colab": {
      "provenance": [],
      "authorship_tag": "ABX9TyNCoRaX6VCLFLkqArkdtKmz",
      "include_colab_link": true
    },
    "kernelspec": {
      "name": "python3",
      "display_name": "Python 3"
    },
    "language_info": {
      "name": "python"
    }
  },
  "cells": [
    {
      "cell_type": "markdown",
      "metadata": {
        "id": "view-in-github",
        "colab_type": "text"
      },
      "source": [
        "<a href=\"https://colab.research.google.com/github/SajidMajeed92/Data-Structures-Algorithms-with-Python/blob/main/Introduction_%26_Implementation_of_List_in_Python_.ipynb\" target=\"_parent\"><img src=\"https://colab.research.google.com/assets/colab-badge.svg\" alt=\"Open In Colab\"/></a>"
      ]
    },
    {
      "cell_type": "markdown",
      "source": [
        "**List**<br>\n",
        "Lists are used to store multiple items in a single variable.<br>\n",
        "Declaring a List is fairly straightforward. You use square brackets ([]) and separate the items by a comma. <br>Let me write an example -<br>\n",
        "A = [\"Meat\", \"Ali\", 48851964400, 3.14, \"Bread\"]<br><br>\n",
        "Lists are mutable. Say if you want to change some item on a List, you can do that. For example, if I don’t like 'Meat', and want to replace this with 'Morning Walk', I can do it –<br>\n",
        "A = [\"Morning Walk\", \"Leuven\", 48851964400, 3.14, \"Mom\"] <br><br>\n",
        "Some essential features of Python lists are:<br>\n",
        "* Collection of values\n",
        "* Can be of any data type\n",
        "* Can be a combination of different types"
      ],
      "metadata": {
        "id": "I20HL3xxn9OE"
      }
    },
    {
      "cell_type": "code",
      "source": [
        "fruit_list = [\"Apple\",\"Berry\",\"Banana\",\"Pine Apple\"]\n",
        "print(fruit_list)"
      ],
      "metadata": {
        "id": "MwdKTcPAqy6T",
        "colab": {
          "base_uri": "https://localhost:8080/"
        },
        "outputId": "5db84250-eecc-44ee-8c10-280bb8be6226"
      },
      "execution_count": 2,
      "outputs": [
        {
          "output_type": "stream",
          "name": "stdout",
          "text": [
            "['Apple', 'Berry', 'Banana', 'Pine Apple']\n"
          ]
        }
      ]
    },
    {
      "cell_type": "markdown",
      "source": [
        "**List Method**\n",
        "\n",
        "\n"
      ],
      "metadata": {
        "id": "2N834ZhgvDDF"
      }
    },
    {
      "cell_type": "code",
      "source": [
        "#.append()\n",
        "#In Python, you can add values to the end of a list using the .append() method.\n",
        "\n",
        "fruit_list = [\"Apple\",\"Berry\",\"Banana\",\"Pine Apple\",\"Banana\"]\n",
        "print(fruit_list)\n",
        "fruit_list.append(\"Guava\")\n",
        "print(fruit_list)\n",
        "\n",
        "#.count()\n",
        "#The .count() Python list method searches a list for whatever search term it receives as an argument, then returns the number of matching entries found.\n",
        "\n",
        "fruit=fruit_list.count(\"Banana\")\n",
        "print(fruit)\n",
        "\n",
        "#len()\n",
        "#The Python len() function can be used to determine the number of items found in the list it accepts as an argument.\n",
        "\n",
        "print(len(fruit_list))\n",
        "\n",
        "#.sort()\n",
        "#The .sort() Python list method will sort the contents of whatever list it is called on. Numerical lists will be sorted in ascending order, and lists of Strings will be sorted into alphabetical order. It modifies the original list, and has no return value.\n",
        "\n",
        "fruit_list.sort()\n",
        "print(fruit_list)"
      ],
      "metadata": {
        "id": "K-CIzbDzph1L",
        "colab": {
          "base_uri": "https://localhost:8080/"
        },
        "outputId": "6293cf24-364b-408f-f313-4225dd0fd749"
      },
      "execution_count": 22,
      "outputs": [
        {
          "output_type": "stream",
          "name": "stdout",
          "text": [
            "['Apple', 'Berry', 'Banana', 'Pine Apple', 'Banana']\n",
            "['Apple', 'Berry', 'Banana', 'Pine Apple', 'Banana', 'Guava']\n",
            "2\n",
            "6\n",
            "['Apple', 'Banana', 'Banana', 'Berry', 'Guava', 'Pine Apple']\n"
          ]
        }
      ]
    }
  ]
}
{
  "nbformat": 4,
  "nbformat_minor": 0,
  "metadata": {
    "colab": {
      "provenance": [],
      "authorship_tag": "ABX9TyMPbj1Ak/JH2sktXJN7qRd3",
      "include_colab_link": true
    },
    "kernelspec": {
      "name": "python3",
      "display_name": "Python 3"
    },
    "language_info": {
      "name": "python"
    }
  },
  "cells": [
    {
      "cell_type": "markdown",
      "metadata": {
        "id": "view-in-github",
        "colab_type": "text"
      },
      "source": [
        "<a href=\"https://colab.research.google.com/github/SajidMajeed92/Data-Structures-Algorithms-with-Python/blob/main/Introduction_%26_Implementation_of_List_in_Python_.ipynb\" target=\"_parent\"><img src=\"https://colab.research.google.com/assets/colab-badge.svg\" alt=\"Open In Colab\"/></a>"
      ]
    },
    {
      "cell_type": "markdown",
      "source": [
        "**List**<br>\n",
        "Lists are used to store multiple items in a single variable.<br>\n",
        "Declaring a List is fairly straightforward. You use square brackets ([]) and separate the items by a comma. <br>Let me write an example -<br>\n",
        "A = [\"Meat\", \"Ali\", 48851964400, 3.14, \"Bread\"]<br><br>\n",
        "Lists are mutable. Say if you want to change some item on a List, you can do that. For example, if I don’t like 'Meat', and want to replace this with 'Morning Walk', I can do it –<br>\n",
        "A = [\"Morning Walk\", \"Leuven\", 48851964400, 3.14, \"Mom\"] <br><br>\n",
        "Some essential features of Python lists are:<br>\n",
        "* Collection of values\n",
        "* Can be of any data type\n",
        "* Can be a combination of different types"
      ],
      "metadata": {
        "id": "I20HL3xxn9OE"
      }
    },
    {
      "cell_type": "code",
      "source": [],
      "metadata": {
        "id": "K-CIzbDzph1L"
      },
      "execution_count": null,
      "outputs": []
    }
  ]
}
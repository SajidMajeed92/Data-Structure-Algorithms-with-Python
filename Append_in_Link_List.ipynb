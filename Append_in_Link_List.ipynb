{
  "nbformat": 4,
  "nbformat_minor": 0,
  "metadata": {
    "colab": {
      "provenance": [],
      "authorship_tag": "ABX9TyM686aaRiPAy3YEnjdd7avy",
      "include_colab_link": true
    },
    "kernelspec": {
      "name": "python3",
      "display_name": "Python 3"
    },
    "language_info": {
      "name": "python"
    }
  },
  "cells": [
    {
      "cell_type": "markdown",
      "metadata": {
        "id": "view-in-github",
        "colab_type": "text"
      },
      "source": [
        "<a href=\"https://colab.research.google.com/github/SajidMajeed92/Data-Structures-Algorithms-with-Python/blob/main/Append_in_Link_List.ipynb\" target=\"_parent\"><img src=\"https://colab.research.google.com/assets/colab-badge.svg\" alt=\"Open In Colab\"/></a>"
      ]
    },
    {
      "cell_type": "code",
      "execution_count": 1,
      "metadata": {
        "colab": {
          "base_uri": "https://localhost:8080/"
        },
        "id": "uZV1tYTiJzlg",
        "outputId": "270ee299-0675-4827-fe7a-c0648bd279bf"
      },
      "outputs": [
        {
          "output_type": "stream",
          "name": "stdout",
          "text": [
            "A\n",
            "B\n",
            "C\n",
            "D\n"
          ]
        }
      ],
      "source": [
        "class Node:\n",
        "  def __init__(self, data):\n",
        "    self.data = data\n",
        "    self.next = None\n",
        "\n",
        "class LinkedList:\n",
        "  def __init__(self):\n",
        "    self.head = None\n",
        "  \n",
        "  def print_list(self):\n",
        "    cur_node = self.head\n",
        "    while cur_node:\n",
        "      print(cur_node.data)\n",
        "      cur_node = cur_node.next\n",
        "\n",
        "  def append(self, data):\n",
        "    new_node = Node(data)\n",
        "    if self.head is None:\n",
        "      self.head = new_node\n",
        "      return\n",
        "    last_node = self.head\n",
        "    while last_node.next:\n",
        "      last_node = last_node.next\n",
        "    last_node.next = new_node\n",
        "  \n",
        "llist = LinkedList()\n",
        "llist.append(\"A\")\n",
        "llist.append(\"B\")\n",
        "llist.append(\"C\")\n",
        "llist.append(\"D\")\n",
        "\n",
        "\n",
        "llist.print_list()  "
      ]
    }
  ]
}
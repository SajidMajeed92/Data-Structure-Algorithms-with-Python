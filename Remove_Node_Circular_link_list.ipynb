{
  "nbformat": 4,
  "nbformat_minor": 0,
  "metadata": {
    "colab": {
      "provenance": [],
      "authorship_tag": "ABX9TyPpHbGQKlqyzo5R0zm4xuBn",
      "include_colab_link": true
    },
    "kernelspec": {
      "name": "python3",
      "display_name": "Python 3"
    },
    "language_info": {
      "name": "python"
    }
  },
  "cells": [
    {
      "cell_type": "markdown",
      "metadata": {
        "id": "view-in-github",
        "colab_type": "text"
      },
      "source": [
        "<a href=\"https://colab.research.google.com/github/SajidMajeed92/Data-Structures-Algorithms-with-Python/blob/main/Remove_Node_Circular_link_list.ipynb\" target=\"_parent\"><img src=\"https://colab.research.google.com/assets/colab-badge.svg\" alt=\"Open In Colab\"/></a>"
      ]
    },
    {
      "cell_type": "code",
      "execution_count": null,
      "metadata": {
        "id": "SPADPe5N_26o"
      },
      "outputs": [],
      "source": [
        "class Node:\n",
        "    def __init__(self, data):\n",
        "        self.data = data \n",
        "        self.next = None\n",
        "\n",
        "\n",
        "class CircularLinkedList:\n",
        "    def __init__(self):\n",
        "        self.head = None \n",
        "\n",
        "    def prepend(self, data):\n",
        "        new_node = Node(data)\n",
        "        cur = self.head \n",
        "        new_node.next = self.head\n",
        "\n",
        "        if not self.head:\n",
        "            new_node.next = new_node\n",
        "        else:\n",
        "            while cur.next != self.head:\n",
        "                cur = cur.next\n",
        "            cur.next = new_node\n",
        "        self.head = new_node\n",
        "\n",
        "    def append(self, data):\n",
        "        if not self.head:\n",
        "            self.head = Node(data)\n",
        "            self.head.next = self.head\n",
        "        else:\n",
        "            new_node = Node(data)\n",
        "            cur = self.head\n",
        "            while cur.next != self.head:\n",
        "                cur = cur.next\n",
        "            cur.next = new_node\n",
        "            new_node.next = self.head\n",
        "\n",
        "    def print_list(self):\n",
        "        cur = self.head \n",
        "\n",
        "        while cur:\n",
        "            print(cur.data)\n",
        "            cur = cur.next\n",
        "            if cur == self.head:\n",
        "                break\n",
        "\n",
        "    def remove(self, key):\n",
        "        if self.head:\n",
        "            if self.head.data == key:\n",
        "                cur = self.head \n",
        "                while cur.next != self.head:\n",
        "                    cur = cur.next \n",
        "                if self.head == self.head.next:\n",
        "                    self.head = None\n",
        "                else:\n",
        "                    cur.next = self.head.next\n",
        "                    self.head = self.head.next\n",
        "            else:\n",
        "                cur = self.head \n",
        "                prev = None \n",
        "                while cur.next != self.head:\n",
        "                    prev = cur \n",
        "                    cur = cur.next\n",
        "                    if cur.data == key:\n",
        "                        prev.next = cur.next \n",
        "                        cur = cur.next\n",
        "\n",
        "\n",
        "cllist = CircularLinkedList()\n",
        "cllist.append(\"A\")\n",
        "cllist.append(\"B\")\n",
        "cllist.append(\"C\")\n",
        "cllist.append(\"D\")\n",
        "\n",
        "cllist.remove(\"A\")\n",
        "cllist.remove(\"C\")\n",
        "cllist.print_list()"
      ]
    }
  ]
}
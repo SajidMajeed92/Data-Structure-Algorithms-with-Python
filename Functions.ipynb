{
  "nbformat": 4,
  "nbformat_minor": 0,
  "metadata": {
    "colab": {
      "provenance": [],
      "authorship_tag": "ABX9TyOKkUu7bI71d7DP3+YSTha2",
      "include_colab_link": true
    },
    "kernelspec": {
      "name": "python3",
      "display_name": "Python 3"
    },
    "language_info": {
      "name": "python"
    }
  },
  "cells": [
    {
      "cell_type": "markdown",
      "metadata": {
        "id": "view-in-github",
        "colab_type": "text"
      },
      "source": [
        "<a href=\"https://colab.research.google.com/github/SajidMajeed92/Data-Structures-Algorithms-with-Python/blob/main/Functions.ipynb\" target=\"_parent\"><img src=\"https://colab.research.google.com/assets/colab-badge.svg\" alt=\"Open In Colab\"/></a>"
      ]
    },
    {
      "cell_type": "markdown",
      "source": [
        "**Function**\n",
        "\n",
        "A function is a block of code which only runs when it is called.\n",
        "\n",
        "You can pass data, known as parameters, into a function.\n",
        "\n",
        "A function can return data as a result.\n",
        "\n",
        "print( ) and input( ) are some functions that you’ve already used. And these are inbuilt functions.\n"
      ],
      "metadata": {
        "id": "zek-lhzaGf9w"
      }
    },
    {
      "cell_type": "code",
      "execution_count": 2,
      "metadata": {
        "colab": {
          "base_uri": "https://localhost:8080/"
        },
        "id": "7mkTi-lZGSf1",
        "outputId": "4fe84d76-d4b5-4dae-8369-bf5b81087a08"
      },
      "outputs": [
        {
          "output_type": "stream",
          "name": "stdout",
          "text": [
            "Welcome to DSA with Python\n"
          ]
        }
      ],
      "source": [
        "# Python Functions are a block of statements that return the specific task.\n",
        "\n",
        "# Decleration of a function\n",
        "def subject():\n",
        "  print(\"Welcome to DSA with Python\")\n",
        "\n",
        "# Driver code to call a function\n",
        "subject()\n"
      ]
    },
    {
      "cell_type": "code",
      "source": [
        "#Defining and calling a function with parameters\n",
        "def add(num1: int, num2: int) -> int:\n",
        "  \"\"\"Add two numbers\"\"\"\n",
        "  num3 = num1 + num2\n",
        "  return num3\n",
        "\n",
        "# Driver code\n",
        "num1, num2 = 5, 15\n",
        "ans = add(num1, num2)\n",
        "print(f\"The addition of {num1} and {num2} results {ans}.\")\n"
      ],
      "metadata": {
        "colab": {
          "base_uri": "https://localhost:8080/"
        },
        "id": "n93Y7z2KHasO",
        "outputId": "7e304ab3-c638-4f42-ce3e-469f289202ab"
      },
      "execution_count": 3,
      "outputs": [
        {
          "output_type": "stream",
          "name": "stdout",
          "text": [
            "The addition of 5 and 15 results 20.\n"
          ]
        }
      ]
    },
    {
      "cell_type": "code",
      "source": [
        "# Examples of Python built-in functions\n",
        "\n",
        "#abs(x) \n",
        "# Returns the absolute value of a number. In case a complex number is passed, the magnitude of that number is returned. It is the same as the distance from the origin of a point on an x-y graph. For e.g.-\n",
        "# Abs(-3) =3 \n",
        "# abs(3+4i) = 5\n",
        "a = 12\n",
        "b = -4\n",
        "c = 3+4j\n",
        "d = 7.90\n",
        "print(abs(a))\n",
        "print(abs(b))\n",
        "print(abs(c))\n",
        "print(abs(d))\n",
        "\n",
        "#bin()\n",
        "#This function returns the binary value of a number.\n",
        "a=5\n",
        "print(bin(a))\n",
        "\n",
        "age = 25\n",
        "print(bin(age))\n",
        "\n",
        "# round()\n",
        "#It gives a roundoff value for a number, i.e. gives the nearest integer value for a number. This function accepts one argument, either decimal, float or integer and gives roundoff output.\n",
        "print(round(4.5))\n",
        "print(round(-7.7))\n",
        "\n",
        "# list()\n",
        "\n",
        "# This function is used to convert an object to a list object.\n",
        "print(list()) #returns empty list\n",
        "stringobj = 'PALINDROME'\n",
        "print(list(stringobj))\n",
        "tupleobj = ('a', 'e', 'i', 'o', 'u')\n",
        "print(list(tupleobj))\n",
        "listobj = ['1', '2', '3', 'o', '10u']\n",
        "print(list(listobj))\n",
        "\n",
        "# len()\n",
        "# This function gives the length of the object as an output.\n",
        "stringobj = 'PALINDROME'\n",
        "print(len(stringobj))\n",
        "tupleobj = ('a', 'e', 'i', 'o', 'u')\n",
        "print(len(tupleobj))\n",
        "listobj = ['1', '2', '3', 'o', '10u']\n",
        "print(len(listobj))\n",
        "\n",
        "# max()\n",
        "# This function returns the largest number in the given iterable object or the maximum of two or more numbers given as arguments.\n",
        "num = [11, 13, 12, 15, 14]\n",
        "print('Maximum is:', max(num))\n",
        "\n",
        "# min()\n",
        "# This function returns the minimum value from the collection object or the values defined as arguments.\n",
        "print(min(2,5,3,1,0,99))\n",
        "sampleObj = ['B','a','t','A']\n",
        "print(min(sampleObj))\n",
        "\n",
        "# map()\n",
        "# This function helps in debugging as it provides the result after an operation is applied to each of the items in an iterable object.\n",
        "\n",
        "numList = (11, 21, 13, 41)\n",
        "res = map(lambda x: x + x, numList)\n",
        "print(list(res))\n",
        "\n",
        "#pow()\n",
        "#This function returns the value of the power of 1 number to another number.\n",
        "print(pow(2,-3))\n",
        "print(pow(2,4.5))\n",
        "print(pow(3,0))\n",
        "\n",
        "\n",
        "#sorted()\n",
        "#This function has made the sorting of the numbers very easy.\n",
        "\n",
        "sampleObj = (3,6,8,2,5,8,10)\n",
        "print(sorted(sampleObj,reverse=True))\n",
        "sampledict = {'a':'sss','g':'wq','t':2}\n",
        "print(sorted(sampledict,key= len))\n",
        "\n",
        "#sum()\n",
        "#This function helps to sum the member of an iterable object.\n",
        "\n",
        "num = [2.5, 3, 4, -5]\n",
        "numSum = sum(num)\n",
        "print(numSum)\n",
        "numSum = sum(num, 20)\n",
        "print(numSum)\n",
        "\n",
        "#range(start,stop,step)\n",
        "\n",
        "# Here, start- an Integer which marks the start of the series.\n",
        "# A stop-an integer that marks the last number of the series. The last number in the range is stop-1.\n",
        "#Step – an integer that lets to increment the loop with a specific number. By default, it is +1.\n",
        "\n",
        "res = 1\n",
        "for i in range(1, 10,2):\n",
        "  res = res * i\n",
        "print(\"multiplication of first 10 natural number :\", res)\n"
      ],
      "metadata": {
        "colab": {
          "base_uri": "https://localhost:8080/"
        },
        "id": "_-VMP-3kIQ67",
        "outputId": "dd884d3b-f049-4a28-bf8e-dc60d6b1e7d2"
      },
      "execution_count": 15,
      "outputs": [
        {
          "output_type": "stream",
          "name": "stdout",
          "text": [
            "12\n",
            "4\n",
            "5.0\n",
            "7.9\n",
            "0b101\n",
            "0b11001\n",
            "4\n",
            "-8\n",
            "[]\n",
            "['P', 'A', 'L', 'I', 'N', 'D', 'R', 'O', 'M', 'E']\n",
            "['a', 'e', 'i', 'o', 'u']\n",
            "['1', '2', '3', 'o', '10u']\n",
            "10\n",
            "5\n",
            "5\n",
            "Maximum is: 15\n",
            "0\n",
            "A\n",
            "[22, 42, 26, 82]\n",
            "0.125\n",
            "22.627416997969522\n",
            "1\n",
            "[10, 8, 8, 6, 5, 3, 2]\n",
            "['a', 'g', 't']\n",
            "4.5\n",
            "24.5\n",
            "multiplication of first 10 natural number : 945\n"
          ]
        }
      ]
    },
    {
      "cell_type": "markdown",
      "source": [
        "**Methods**<br>\n",
        "A method in python is somewhat similar to a function, except it is associated with object/classes. Methods in python are very similar to functions except for two major differences.\n",
        "\n",
        "* The method is implicitly used for an object for which it is called.\n",
        "\n",
        "* The method is accessible to data that is contained within the class."
      ],
      "metadata": {
        "id": "tKsdbdhlTKsI"
      }
    },
    {
      "cell_type": "code",
      "source": [
        "class car(object):\n",
        "  def my_method(self):\n",
        "    print(\"I am a Swift Dzire 900\")\n",
        "maruti = car()\n",
        "maruti.my_method()"
      ],
      "metadata": {
        "colab": {
          "base_uri": "https://localhost:8080/"
        },
        "id": "QlrEZfoMTRjF",
        "outputId": "64db1f5b-02a4-4173-b451-1cf8e0b8203a"
      },
      "execution_count": 16,
      "outputs": [
        {
          "output_type": "stream",
          "name": "stdout",
          "text": [
            "I am a Swift Dzire 900\n"
          ]
        }
      ]
    }
  ]
}
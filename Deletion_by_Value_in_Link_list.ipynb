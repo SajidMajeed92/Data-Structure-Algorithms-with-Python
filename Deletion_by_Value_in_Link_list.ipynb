{
  "nbformat": 4,
  "nbformat_minor": 0,
  "metadata": {
    "colab": {
      "provenance": [],
      "authorship_tag": "ABX9TyPgkLTUeAukPZGm5lrwzo9s",
      "include_colab_link": true
    },
    "kernelspec": {
      "name": "python3",
      "display_name": "Python 3"
    },
    "language_info": {
      "name": "python"
    }
  },
  "cells": [
    {
      "cell_type": "markdown",
      "metadata": {
        "id": "view-in-github",
        "colab_type": "text"
      },
      "source": [
        "<a href=\"https://colab.research.google.com/github/SajidMajeed92/Data-Structures-Algorithms-with-Python/blob/main/Deletion_by_Value_in_Link_list.ipynb\" target=\"_parent\"><img src=\"https://colab.research.google.com/assets/colab-badge.svg\" alt=\"Open In Colab\"/></a>"
      ]
    },
    {
      "cell_type": "code",
      "execution_count": 1,
      "metadata": {
        "colab": {
          "base_uri": "https://localhost:8080/"
        },
        "id": "0KgfehlsKzIL",
        "outputId": "94b3a2de-979c-4db5-bab0-e68bd8ef91c2"
      },
      "outputs": [
        {
          "output_type": "stream",
          "name": "stdout",
          "text": [
            "A\n",
            "C\n",
            "D\n"
          ]
        }
      ],
      "source": [
        "#Case of Deleting Head \n",
        "class Node:\n",
        "    def __init__(self, data):\n",
        "        self.data = data\n",
        "        self.next = None\n",
        "\n",
        "\n",
        "class LinkedList:\n",
        "    def __init__(self):\n",
        "        self.head = None\n",
        "\n",
        "    def print_list(self):\n",
        "        cur_node = self.head\n",
        "        while cur_node:\n",
        "            print(cur_node.data)\n",
        "            cur_node = cur_node.next\n",
        "\n",
        "    def append(self, data):\n",
        "        new_node = Node(data)\n",
        "\n",
        "        if self.head is None:\n",
        "            self.head = new_node\n",
        "            return\n",
        "\n",
        "        last_node = self.head\n",
        "        while last_node.next:\n",
        "            last_node = last_node.next\n",
        "        last_node.next = new_node\n",
        "\n",
        "    def prepend(self, data):\n",
        "        new_node = Node(data)\n",
        "\n",
        "        new_node.next = self.head\n",
        "        self.head = new_node\n",
        "\n",
        "    def insert_after_node(self, prev_node, data):\n",
        "\n",
        "        if not prev_node:\n",
        "            print(\"Previous node does not exist.\")\n",
        "            return \n",
        "\n",
        "        new_node = Node(data)\n",
        "\n",
        "        new_node.next = prev_node.next\n",
        "        prev_node.next = new_node\n",
        "\n",
        "    def delete_node(self, key):\n",
        "\n",
        "        cur_node = self.head\n",
        "\n",
        "        if cur_node and cur_node.data == key:\n",
        "            self.head = cur_node.next\n",
        "            cur_node = None\n",
        "            return\n",
        "\n",
        "        prev = None \n",
        "        while cur_node and cur_node.data != key:\n",
        "            prev = cur_node\n",
        "            cur_node = cur_node.next\n",
        "\n",
        "        if cur_node is None:\n",
        "            return \n",
        "\n",
        "        prev.next = cur_node.next\n",
        "        cur_node = None\n",
        "\n",
        "\n",
        "llist = LinkedList()\n",
        "llist.append(\"A\")\n",
        "llist.append(\"B\")\n",
        "llist.append(\"C\")\n",
        "llist.append(\"D\")\n",
        "\n",
        "llist.delete_node(\"B\")\n",
        "llist.delete_node(\"E\")\n",
        "\n",
        "llist.print_list()\n"
      ]
    }
  ]
}
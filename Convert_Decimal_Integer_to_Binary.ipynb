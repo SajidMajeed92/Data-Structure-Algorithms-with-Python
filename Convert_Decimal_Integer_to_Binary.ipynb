{
  "nbformat": 4,
  "nbformat_minor": 0,
  "metadata": {
    "colab": {
      "provenance": [],
      "authorship_tag": "ABX9TyNAtb/xq1W/DTz9r7EMSJYI",
      "include_colab_link": true
    },
    "kernelspec": {
      "name": "python3",
      "display_name": "Python 3"
    },
    "language_info": {
      "name": "python"
    }
  },
  "cells": [
    {
      "cell_type": "markdown",
      "metadata": {
        "id": "view-in-github",
        "colab_type": "text"
      },
      "source": [
        "<a href=\"https://colab.research.google.com/github/SajidMajeed92/Data-Structures-Algorithms-with-Python/blob/main/Convert_Decimal_Integer_to_Binary.ipynb\" target=\"_parent\"><img src=\"https://colab.research.google.com/assets/colab-badge.svg\" alt=\"Open In Colab\"/></a>"
      ]
    },
    {
      "cell_type": "code",
      "execution_count": 2,
      "metadata": {
        "colab": {
          "base_uri": "https://localhost:8080/"
        },
        "id": "ocCqgOnuKgkU",
        "outputId": "97ba8e00-0758-46e5-eb61-caa2f3fd5e33"
      },
      "outputs": [
        {
          "output_type": "stream",
          "name": "stdout",
          "text": [
            "111000\n",
            "10\n",
            "100000\n",
            "1010\n",
            "True\n"
          ]
        }
      ],
      "source": [
        "class Stack():\n",
        "    def __init__(self):\n",
        "        self.items = []\n",
        "\n",
        "    def push(self, item):\n",
        "        self.items.append(item)\t\t\t\t\n",
        "\n",
        "    def pop(self):\n",
        "        return self.items.pop()\n",
        "    \n",
        "    def is_empty(self):\n",
        "        return self.items == []\n",
        "    \n",
        "    def peek(self):\n",
        "        if not self.is_empty():\n",
        "            return self.items[-1]\n",
        "        \n",
        "    def get_stack(self):\n",
        "        return self.items\n",
        "def convert_int_to_bin(dec_num):\n",
        "    \n",
        "    if dec_num == 0:\n",
        "        return 0\n",
        "    \n",
        "    s = Stack()\n",
        "\n",
        "    while dec_num > 0:\n",
        "        remainder = dec_num % 2\n",
        "        s.push(remainder)\n",
        "        dec_num = dec_num // 2\n",
        "\n",
        "    bin_num = \"\"\n",
        "    while not s.is_empty():\n",
        "        bin_num += str(s.pop())\n",
        "\n",
        "    return bin_num\n",
        "\n",
        "print(convert_int_to_bin(56))\n",
        "print(convert_int_to_bin(2))\n",
        "print(convert_int_to_bin(32))\n",
        "print(convert_int_to_bin(10))\n",
        "\n",
        "print(int(convert_int_to_bin(56),2)==56)"
      ]
    }
  ]
}
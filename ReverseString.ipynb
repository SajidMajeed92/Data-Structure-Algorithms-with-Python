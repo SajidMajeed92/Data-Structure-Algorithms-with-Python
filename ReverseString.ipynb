{
  "nbformat": 4,
  "nbformat_minor": 0,
  "metadata": {
    "colab": {
      "provenance": [],
      "authorship_tag": "ABX9TyMEiXKXaKbdxlHSy9SAUC8N",
      "include_colab_link": true
    },
    "kernelspec": {
      "name": "python3",
      "display_name": "Python 3"
    },
    "language_info": {
      "name": "python"
    }
  },
  "cells": [
    {
      "cell_type": "markdown",
      "metadata": {
        "id": "view-in-github",
        "colab_type": "text"
      },
      "source": [
        "<a href=\"https://colab.research.google.com/github/SajidMajeed92/Data-Structures-Algorithms-with-Python/blob/main/ReverseString.ipynb\" target=\"_parent\"><img src=\"https://colab.research.google.com/assets/colab-badge.svg\" alt=\"Open In Colab\"/></a>"
      ]
    },
    {
      "cell_type": "code",
      "execution_count": 8,
      "metadata": {
        "colab": {
          "base_uri": "https://localhost:8080/"
        },
        "id": "bgY5_XIseZUx",
        "outputId": "6ecebe81-7467-4c12-9ed8-20a03f893851"
      },
      "outputs": [
        {
          "output_type": "stream",
          "name": "stdout",
          "text": [
            "noitacudE\n"
          ]
        }
      ],
      "source": [
        "input_str = \"Education\"\n",
        "print(input_str[::-1])"
      ]
    }
  ]
}
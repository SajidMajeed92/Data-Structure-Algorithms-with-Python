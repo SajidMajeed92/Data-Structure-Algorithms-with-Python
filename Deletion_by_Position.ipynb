{
  "nbformat": 4,
  "nbformat_minor": 0,
  "metadata": {
    "colab": {
      "provenance": [],
      "authorship_tag": "ABX9TyOGqWCdfO2j10PLBjEGJT7O",
      "include_colab_link": true
    },
    "kernelspec": {
      "name": "python3",
      "display_name": "Python 3"
    },
    "language_info": {
      "name": "python"
    }
  },
  "cells": [
    {
      "cell_type": "markdown",
      "metadata": {
        "id": "view-in-github",
        "colab_type": "text"
      },
      "source": [
        "<a href=\"https://colab.research.google.com/github/SajidMajeed92/Data-Structures-Algorithms-with-Python/blob/main/Deletion_by_Position.ipynb\" target=\"_parent\"><img src=\"https://colab.research.google.com/assets/colab-badge.svg\" alt=\"Open In Colab\"/></a>"
      ]
    },
    {
      "cell_type": "code",
      "execution_count": 1,
      "metadata": {
        "colab": {
          "base_uri": "https://localhost:8080/"
        },
        "id": "xMQEZ6qZLei6",
        "outputId": "2191331c-6cac-4598-bc95-b983d0d2b8fb"
      },
      "outputs": [
        {
          "output_type": "stream",
          "name": "stdout",
          "text": [
            "B\n",
            "C\n",
            "D\n"
          ]
        }
      ],
      "source": [
        "class Node:\n",
        "    def __init__(self, data):\n",
        "        self.data = data\n",
        "        self.next = None\n",
        "\n",
        "\n",
        "class LinkedList:\n",
        "    def __init__(self):\n",
        "        self.head = None\n",
        "\n",
        "    def print_list(self):\n",
        "        cur_node = self.head\n",
        "        while cur_node:\n",
        "            print(cur_node.data)\n",
        "            cur_node = cur_node.next\n",
        "\n",
        "    def append(self, data):\n",
        "        new_node = Node(data)\n",
        "\n",
        "        if self.head is None:\n",
        "            self.head = new_node\n",
        "            return\n",
        "\n",
        "        last_node = self.head\n",
        "        while last_node.next:\n",
        "            last_node = last_node.next\n",
        "        last_node.next = new_node\n",
        "\n",
        "    def prepend(self, data):\n",
        "        new_node = Node(data)\n",
        "\n",
        "        new_node.next = self.head\n",
        "        self.head = new_node\n",
        "\n",
        "    def insert_after_node(self, prev_node, data):\n",
        "\n",
        "        if not prev_node:\n",
        "            print(\"Previous node does not exist.\")\n",
        "            return \n",
        "\n",
        "        new_node = Node(data)\n",
        "\n",
        "        new_node.next = prev_node.next\n",
        "        prev_node.next = new_node\n",
        "\n",
        "    def delete_node(self, key):\n",
        "\n",
        "        cur_node = self.head\n",
        "\n",
        "        if cur_node and cur_node.data == key:\n",
        "            self.head = cur_node.next\n",
        "            cur_node = None\n",
        "            return\n",
        "\n",
        "        prev = None \n",
        "        while cur_node and cur_node.data != key:\n",
        "            prev = cur_node\n",
        "            cur_node = cur_node.next\n",
        "\n",
        "        if cur_node is None:\n",
        "            return \n",
        "\n",
        "        prev.next = cur_node.next\n",
        "        cur_node = None\n",
        "\n",
        "    def delete_node_at_pos(self, pos):\n",
        "        if self.head:\n",
        "            cur_node = self.head\n",
        "\n",
        "            if pos == 0:\n",
        "                self.head = cur_node.next\n",
        "                cur_node = None\n",
        "                return\n",
        "\n",
        "            prev = None\n",
        "            count = 0\n",
        "            while cur_node and count != pos:\n",
        "                prev = cur_node \n",
        "                cur_node = cur_node.next\n",
        "                count += 1\n",
        "\n",
        "            if cur_node is None:\n",
        "                return \n",
        "\n",
        "            prev.next = cur_node.next\n",
        "            cur_node = None\n",
        "\n",
        "\n",
        "llist = LinkedList()\n",
        "llist.append(\"A\")\n",
        "llist.append(\"B\")\n",
        "llist.append(\"C\")\n",
        "llist.append(\"D\")\n",
        "\n",
        "llist.delete_node_at_pos(0)\n",
        "\n",
        "llist.print_list()"
      ]
    }
  ]
}
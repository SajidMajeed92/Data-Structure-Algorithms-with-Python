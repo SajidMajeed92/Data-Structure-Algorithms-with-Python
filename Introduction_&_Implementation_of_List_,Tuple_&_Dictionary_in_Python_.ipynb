{
  "nbformat": 4,
  "nbformat_minor": 0,
  "metadata": {
    "colab": {
      "provenance": [],
      "authorship_tag": "ABX9TyNgWIyqJO5cqH41GqkyulSR",
      "include_colab_link": true
    },
    "kernelspec": {
      "name": "python3",
      "display_name": "Python 3"
    },
    "language_info": {
      "name": "python"
    }
  },
  "cells": [
    {
      "cell_type": "markdown",
      "metadata": {
        "id": "view-in-github",
        "colab_type": "text"
      },
      "source": [
        "<a href=\"https://colab.research.google.com/github/SajidMajeed92/Data-Structures-Algorithms-with-Python/blob/main/Introduction_%26_Implementation_of_List_%2CTuple_%26_Dictionary_in_Python_.ipynb\" target=\"_parent\"><img src=\"https://colab.research.google.com/assets/colab-badge.svg\" alt=\"Open In Colab\"/></a>"
      ]
    },
    {
      "cell_type": "markdown",
      "source": [
        "**List**<br>\n",
        "Lists are used to store multiple items in a single variable.<br>\n",
        "Declaring a List is fairly straightforward. You use square brackets ([]) and separate the items by a comma. <br>Let me write an example -<br>\n",
        "A = [\"Meat\", \"Ali\", 48851964400, 3.14, \"Bread\"]<br><br>\n",
        "Lists are mutable. Say if you want to change some item on a List, you can do that. For example, if I don’t like 'Meat', and want to replace this with 'Morning Walk', I can do it –<br>\n",
        "A = [\"Morning Walk\", \"Leuven\", 48851964400, 3.14, \"Mom\"] <br><br>\n",
        "Some essential features of Python lists are:<br>\n",
        "* Collection of values\n",
        "* Can be of any data type\n",
        "* Can be a combination of different types"
      ],
      "metadata": {
        "id": "I20HL3xxn9OE"
      }
    },
    {
      "cell_type": "code",
      "source": [
        "fruit_list = [\"Apple\",\"Berry\",\"Banana\",\"Pine Apple\"]\n",
        "print(fruit_list)"
      ],
      "metadata": {
        "id": "MwdKTcPAqy6T",
        "colab": {
          "base_uri": "https://localhost:8080/"
        },
        "outputId": "5db84250-eecc-44ee-8c10-280bb8be6226"
      },
      "execution_count": null,
      "outputs": [
        {
          "output_type": "stream",
          "name": "stdout",
          "text": [
            "['Apple', 'Berry', 'Banana', 'Pine Apple']\n"
          ]
        }
      ]
    },
    {
      "cell_type": "markdown",
      "source": [
        "**List Method**\n",
        "\n",
        "\n"
      ],
      "metadata": {
        "id": "2N834ZhgvDDF"
      }
    },
    {
      "cell_type": "code",
      "source": [
        "#.append()\n",
        "#In Python, you can add values to the end of a list using the .append() method.\n",
        "\n",
        "fruit_list = [\"Apple\",\"Berry\",\"Banana\",\"Pine Apple\",\"Banana\"]\n",
        "print(fruit_list)\n",
        "fruit_list.append(\"Guava\")\n",
        "print(fruit_list)\n",
        "\n",
        "#.count()\n",
        "#The .count() Python list method searches a list for whatever search term it receives as an argument, then returns the number of matching entries found.\n",
        "\n",
        "fruit=fruit_list.count(\"Banana\")\n",
        "print(fruit)\n",
        "\n",
        "#len()\n",
        "#The Python len() function can be used to determine the number of items found in the list it accepts as an argument.\n",
        "\n",
        "print(len(fruit_list))\n",
        "\n",
        "#.sort()\n",
        "#The .sort() Python list method will sort the contents of whatever list it is called on. Numerical lists will be sorted in ascending order, and lists of Strings will be sorted into alphabetical order. It modifies the original list, and has no return value.\n",
        "\n",
        "fruit_list.sort()\n",
        "print(fruit_list)\n",
        "\n",
        "# .index\n",
        "print(fruit_list.index(\"Guava\"))\n",
        "\n",
        "# Create new List\n",
        "\n",
        "l= [\"Kiwi\",\"Raspberry\",\"Orange\"]\n",
        "print(l)\n",
        "\n",
        "# Concatination of two list\n",
        "new_list = fruit_list + l\n",
        "print(new_list)\n",
        "\n",
        "del l\n",
        "print(l)\n"
      ],
      "metadata": {
        "id": "K-CIzbDzph1L",
        "colab": {
          "base_uri": "https://localhost:8080/",
          "height": 339
        },
        "outputId": "54198847-a921-431a-8b36-9794b10ea858"
      },
      "execution_count": null,
      "outputs": [
        {
          "output_type": "stream",
          "name": "stdout",
          "text": [
            "['Apple', 'Berry', 'Banana', 'Pine Apple', 'Banana']\n",
            "['Apple', 'Berry', 'Banana', 'Pine Apple', 'Banana', 'Guava']\n",
            "2\n",
            "6\n",
            "['Apple', 'Banana', 'Banana', 'Berry', 'Guava', 'Pine Apple']\n",
            "4\n",
            "['Kiwi', 'Raspberry', 'Orange']\n",
            "['Apple', 'Banana', 'Banana', 'Berry', 'Guava', 'Pine Apple', 'Kiwi', 'Raspberry', 'Orange']\n"
          ]
        },
        {
          "output_type": "error",
          "ename": "NameError",
          "evalue": "ignored",
          "traceback": [
            "\u001b[0;31m---------------------------------------------------------------------------\u001b[0m",
            "\u001b[0;31mNameError\u001b[0m                                 Traceback (most recent call last)",
            "\u001b[0;32m<ipython-input-28-24a886d2a86d>\u001b[0m in \u001b[0;36m<module>\u001b[0;34m\u001b[0m\n\u001b[1;32m     37\u001b[0m \u001b[0;34m\u001b[0m\u001b[0m\n\u001b[1;32m     38\u001b[0m \u001b[0;32mdel\u001b[0m \u001b[0ml\u001b[0m\u001b[0;34m\u001b[0m\u001b[0;34m\u001b[0m\u001b[0m\n\u001b[0;32m---> 39\u001b[0;31m \u001b[0mprint\u001b[0m\u001b[0;34m(\u001b[0m\u001b[0ml\u001b[0m\u001b[0;34m)\u001b[0m\u001b[0;34m\u001b[0m\u001b[0;34m\u001b[0m\u001b[0m\n\u001b[0m",
            "\u001b[0;31mNameError\u001b[0m: name 'l' is not defined"
          ]
        }
      ]
    },
    {
      "cell_type": "markdown",
      "source": [
        "**TUPLE** \n",
        "\n",
        "* Tuple is also an ordered sequence of items as List. Tuple also holds multiple data types.\n",
        "\n",
        "* The only difference in Tuple & List is that Tuple is immutable; once created it cannot be changed.\n",
        "\n",
        "* Creating a tuple is as simple as putting different comma-separated values within round brackets.<br>\n",
        "\n",
        "Example:<br>\n",
        "A = ('Bread', 'Ahsan', 48851964400, 3.14, 'Egg')"
      ],
      "metadata": {
        "id": "Nm6IP19N2QQW"
      }
    },
    {
      "cell_type": "code",
      "source": [
        "t = (4,5,3,4,5,2,7,2165, 58, 45)\n",
        "print(len(t))"
      ],
      "metadata": {
        "colab": {
          "base_uri": "https://localhost:8080/"
        },
        "id": "DfP5c5iT2SCu",
        "outputId": "9f311f67-5707-4b00-d530-4bc7d97f30dd"
      },
      "execution_count": null,
      "outputs": [
        {
          "output_type": "stream",
          "name": "stdout",
          "text": [
            "10\n"
          ]
        }
      ]
    },
    {
      "cell_type": "code",
      "source": [],
      "metadata": {
        "id": "qE8PIsTBFIUZ"
      },
      "execution_count": null,
      "outputs": []
    },
    {
      "cell_type": "code",
      "source": [
        "# finding Element in a tuple\n",
        "print(t[0])\n",
        "print(t[7])\n",
        "print(t[110]) # Error here"
      ],
      "metadata": {
        "colab": {
          "base_uri": "https://localhost:8080/",
          "height": 235
        },
        "id": "K9MRhYT4Edd4",
        "outputId": "8cca0932-ac50-47ce-c86d-0d9b2aa10cb5"
      },
      "execution_count": null,
      "outputs": [
        {
          "output_type": "stream",
          "name": "stdout",
          "text": [
            "4\n",
            "2165\n"
          ]
        },
        {
          "output_type": "error",
          "ename": "IndexError",
          "evalue": "ignored",
          "traceback": [
            "\u001b[0;31m---------------------------------------------------------------------------\u001b[0m",
            "\u001b[0;31mIndexError\u001b[0m                                Traceback (most recent call last)",
            "\u001b[0;32m<ipython-input-4-b5674b3ec7e5>\u001b[0m in \u001b[0;36m<module>\u001b[0;34m\u001b[0m\n\u001b[1;32m      2\u001b[0m \u001b[0mprint\u001b[0m\u001b[0;34m(\u001b[0m\u001b[0mt\u001b[0m\u001b[0;34m[\u001b[0m\u001b[0;36m0\u001b[0m\u001b[0;34m]\u001b[0m\u001b[0;34m)\u001b[0m\u001b[0;34m\u001b[0m\u001b[0;34m\u001b[0m\u001b[0m\n\u001b[1;32m      3\u001b[0m \u001b[0mprint\u001b[0m\u001b[0;34m(\u001b[0m\u001b[0mt\u001b[0m\u001b[0;34m[\u001b[0m\u001b[0;36m7\u001b[0m\u001b[0;34m]\u001b[0m\u001b[0;34m)\u001b[0m\u001b[0;34m\u001b[0m\u001b[0;34m\u001b[0m\u001b[0m\n\u001b[0;32m----> 4\u001b[0;31m \u001b[0mprint\u001b[0m\u001b[0;34m(\u001b[0m\u001b[0mt\u001b[0m\u001b[0;34m[\u001b[0m\u001b[0;36m110\u001b[0m\u001b[0;34m]\u001b[0m\u001b[0;34m)\u001b[0m\u001b[0;34m\u001b[0m\u001b[0;34m\u001b[0m\u001b[0m\n\u001b[0m",
            "\u001b[0;31mIndexError\u001b[0m: tuple index out of range"
          ]
        }
      ]
    },
    {
      "cell_type": "code",
      "source": [
        "# Assigning New Element in a tuple\n",
        "\n",
        "t[10]= 240 # Due to Imutable feature tuple doesn't support assignment\n",
        "print(t)\n"
      ],
      "metadata": {
        "colab": {
          "base_uri": "https://localhost:8080/",
          "height": 217
        },
        "id": "saJDj-5KFIWY",
        "outputId": "bb802abc-e377-45fe-ef3e-46154c7c1af3"
      },
      "execution_count": null,
      "outputs": [
        {
          "output_type": "error",
          "ename": "TypeError",
          "evalue": "ignored",
          "traceback": [
            "\u001b[0;31m---------------------------------------------------------------------------\u001b[0m",
            "\u001b[0;31mTypeError\u001b[0m                                 Traceback (most recent call last)",
            "\u001b[0;32m<ipython-input-5-12b1abc77f64>\u001b[0m in \u001b[0;36m<module>\u001b[0;34m\u001b[0m\n\u001b[1;32m      1\u001b[0m \u001b[0;31m# Assigning New Element in a tuple\u001b[0m\u001b[0;34m\u001b[0m\u001b[0;34m\u001b[0m\u001b[0m\n\u001b[1;32m      2\u001b[0m \u001b[0;34m\u001b[0m\u001b[0m\n\u001b[0;32m----> 3\u001b[0;31m \u001b[0mt\u001b[0m\u001b[0;34m[\u001b[0m\u001b[0;36m10\u001b[0m\u001b[0;34m]\u001b[0m\u001b[0;34m=\u001b[0m \u001b[0;36m240\u001b[0m\u001b[0;34m\u001b[0m\u001b[0;34m\u001b[0m\u001b[0m\n\u001b[0m\u001b[1;32m      4\u001b[0m \u001b[0mprint\u001b[0m\u001b[0;34m(\u001b[0m\u001b[0mt\u001b[0m\u001b[0;34m)\u001b[0m\u001b[0;34m\u001b[0m\u001b[0;34m\u001b[0m\u001b[0m\n",
            "\u001b[0;31mTypeError\u001b[0m: 'tuple' object does not support item assignment"
          ]
        }
      ]
    },
    {
      "cell_type": "code",
      "source": [
        "# functions with tuples\n",
        "print(t.count(9))\n",
        "print(t.count(5))\n",
        "print(t.index(5))\n",
        "print(sorted(t))\n",
        "print(len(t))\n",
        "print(sum(t))\n",
        "print(max(t))\n",
        "print(min(t))\n",
        "\n",
        "\n",
        "# Tuples conatining Elements\n",
        "\n",
        "tuple_1 = (1,\"two\",2.5)\n",
        "print(tuple_1)\n",
        "\n",
        "\n",
        "# Concatination of tuple\n",
        "new_tuple = t + tuple_1\n",
        "print(new_tuple)\n",
        "\n",
        "# Delete tuple\n",
        "del(new_tuple)\n",
        "print(new_tuple)"
      ],
      "metadata": {
        "colab": {
          "base_uri": "https://localhost:8080/",
          "height": 373
        },
        "id": "1KzconSPFncK",
        "outputId": "903a459a-aec4-477b-c38c-23a0962ff2dc"
      },
      "execution_count": null,
      "outputs": [
        {
          "output_type": "stream",
          "name": "stdout",
          "text": [
            "0\n",
            "2\n",
            "1\n",
            "[2, 3, 4, 4, 5, 5, 7, 45, 58, 2165]\n",
            "10\n",
            "2298\n",
            "2165\n",
            "2\n",
            "(1, 'two', 2.5)\n",
            "(4, 5, 3, 4, 5, 2, 7, 2165, 58, 45, 1, 'two', 2.5)\n"
          ]
        },
        {
          "output_type": "error",
          "ename": "NameError",
          "evalue": "ignored",
          "traceback": [
            "\u001b[0;31m---------------------------------------------------------------------------\u001b[0m",
            "\u001b[0;31mNameError\u001b[0m                                 Traceback (most recent call last)",
            "\u001b[0;32m<ipython-input-27-c712f87804eb>\u001b[0m in \u001b[0;36m<module>\u001b[0;34m\u001b[0m\n\u001b[1;32m     22\u001b[0m \u001b[0;31m# Delete tuple\u001b[0m\u001b[0;34m\u001b[0m\u001b[0;34m\u001b[0m\u001b[0m\n\u001b[1;32m     23\u001b[0m \u001b[0;32mdel\u001b[0m\u001b[0;34m(\u001b[0m\u001b[0mnew_tuple\u001b[0m\u001b[0;34m)\u001b[0m\u001b[0;34m\u001b[0m\u001b[0;34m\u001b[0m\u001b[0m\n\u001b[0;32m---> 24\u001b[0;31m \u001b[0mprint\u001b[0m\u001b[0;34m(\u001b[0m\u001b[0mnew_tuple\u001b[0m\u001b[0;34m)\u001b[0m\u001b[0;34m\u001b[0m\u001b[0;34m\u001b[0m\u001b[0m\n\u001b[0m",
            "\u001b[0;31mNameError\u001b[0m: name 'new_tuple' is not defined"
          ]
        }
      ]
    },
    {
      "cell_type": "code",
      "source": [
        "a=('hi,') * 6\n",
        "print(a)"
      ],
      "metadata": {
        "colab": {
          "base_uri": "https://localhost:8080/"
        },
        "id": "v-Dujk8CJudS",
        "outputId": "b0bff2f5-3f49-41a4-f2f8-e80f1b59438c"
      },
      "execution_count": null,
      "outputs": [
        {
          "output_type": "stream",
          "name": "stdout",
          "text": [
            "hi,hi,hi,hi,hi,hi,\n"
          ]
        }
      ]
    },
    {
      "cell_type": "markdown",
      "source": [
        "**Dictionary** <br>\n",
        "* Dictionary is an unordered collection of key-value pairs.\n",
        "\n",
        "* Real word dictionaries are a good analogy to understand them: they contain a list of items(words), and each item has a key(the word) and a value(the word’s meaning).\n",
        "\n",
        "* It generally is used when we have a huge amount of data.\n",
        "\n",
        "* It is defined within braces, with each item being in the form of key: value pair. Syntax –<br>\n",
        "my_dict = {\n",
        "\"key1\":\"value1\",\n",
        "\"key2\":\"value2\",\n",
        "}\n",
        "<br>\n",
        "* The keys in a dictionary must always be unique and immutable. This is the reason dictionary keys can be String but not List.\n",
        "\n",
        "* On the other hand, Values in a dictionary can be of any datatype and can be duplicated.\n",
        "\n",
        "* Dictionary keys are case sensitive, same name but different cases of Key will be treated distinctly\n"
      ],
      "metadata": {
        "id": "PZG1qwSUN_yB"
      }
    },
    {
      "cell_type": "code",
      "source": [
        "my_dic = {1:\"Blue\",2:\"Green\",3:\"Red\"}\n",
        "print(my_dic)\n",
        "\n",
        "# Creating a Dictionary with Mixed keys\n",
        "Dict = {'Name': 'Muhammad', 1: [1, 2, 3, 4]}\n",
        "print(\"\\nDictionary with the use of Mixed Keys: \")\n",
        "print(Dict)\n",
        "\n",
        "\n",
        "# Adding elements one at a time\n",
        "Dict[0] = 'Python'\n",
        "Dict[2] = 'Skills'\n",
        "Dict[3] = 1\n",
        "print(\"\\nDictionary after adding 3 elements: \")\n",
        "print(Dict)\n",
        "\n",
        "# Adding set of values to a single Key\n",
        "Dict['Tuple'] = 2, 3, 4\n",
        "print(\"\\nDictionary after adding 3 elements: \")\n",
        "print(Dict)\n",
        "\n",
        "# Updating existing Key's Value\n",
        "Dict[2] = 'Grand Welcome'\n",
        "print(\"\\nUpdated key value: \")\n",
        "print(Dict)\n",
        "\n",
        "# Adding Nested Key value to Dictionary\n",
        "Dict[5] = {'Nested': {'1': 'Life', '2': 'Geeks'}}\n",
        "print(\"\\nAdding a Nested Key: \")\n",
        "print(Dict)"
      ],
      "metadata": {
        "colab": {
          "base_uri": "https://localhost:8080/",
          "height": 550
        },
        "id": "DzrQ0hfTOy9b",
        "outputId": "7f7cdb04-0243-41a2-9e54-8de4e2e3ea29"
      },
      "execution_count": null,
      "outputs": [
        {
          "output_type": "stream",
          "name": "stdout",
          "text": [
            "{1: 'Blue', 2: 'Green', 3: 'Red'}\n",
            "\n",
            "Dictionary with the use of Mixed Keys: \n",
            "{'Name': 'Muhammad', 1: [1, 2, 3, 4]}\n",
            "\n",
            "Dictionary after adding 3 elements: \n",
            "{'Name': 'Muhammad', 1: [1, 2, 3, 4], 0: 'Python', 2: 'Skills', 3: 1}\n",
            "\n",
            "Dictionary after adding 3 elements: \n",
            "{'Name': 'Muhammad', 1: [1, 2, 3, 4], 0: 'Python', 2: 'Skills', 3: 1, 'Tuple': (2, 3, 4)}\n",
            "\n",
            "Updated key value: \n",
            "{'Name': 'Muhammad', 1: [1, 2, 3, 4], 0: 'Python', 2: 'Grand Welcome', 3: 1, 'Tuple': (2, 3, 4)}\n",
            "\n",
            "Adding a Nested Key: \n",
            "{'Name': 'Muhammad', 1: [1, 2, 3, 4], 0: 'Python', 2: 'Grand Welcome', 3: 1, 'Tuple': (2, 3, 4), 5: {'Nested': {'1': 'Life', '2': 'Geeks'}}}\n",
            "Accessing a element using key:\n"
          ]
        },
        {
          "output_type": "error",
          "ename": "KeyError",
          "evalue": "ignored",
          "traceback": [
            "\u001b[0;31m---------------------------------------------------------------------------\u001b[0m",
            "\u001b[0;31mKeyError\u001b[0m                                  Traceback (most recent call last)",
            "\u001b[0;32m<ipython-input-37-5c2e11e8bca0>\u001b[0m in \u001b[0;36m<module>\u001b[0;34m\u001b[0m\n\u001b[1;32m     33\u001b[0m \u001b[0;31m# accessing a element using key\u001b[0m\u001b[0;34m\u001b[0m\u001b[0;34m\u001b[0m\u001b[0m\n\u001b[1;32m     34\u001b[0m \u001b[0mprint\u001b[0m\u001b[0;34m(\u001b[0m\u001b[0;34m\"Accessing a element using key:\"\u001b[0m\u001b[0;34m)\u001b[0m\u001b[0;34m\u001b[0m\u001b[0;34m\u001b[0m\u001b[0m\n\u001b[0;32m---> 35\u001b[0;31m \u001b[0mprint\u001b[0m\u001b[0;34m(\u001b[0m\u001b[0mDict\u001b[0m\u001b[0;34m[\u001b[0m\u001b[0;34m'Data'\u001b[0m\u001b[0;34m]\u001b[0m\u001b[0;34m)\u001b[0m\u001b[0;34m\u001b[0m\u001b[0;34m\u001b[0m\u001b[0m\n\u001b[0m\u001b[1;32m     36\u001b[0m \u001b[0;34m\u001b[0m\u001b[0m\n\u001b[1;32m     37\u001b[0m \u001b[0;31m# accessing a element using key\u001b[0m\u001b[0;34m\u001b[0m\u001b[0;34m\u001b[0m\u001b[0m\n",
            "\u001b[0;31mKeyError\u001b[0m: 'Data'"
          ]
        }
      ]
    },
    {
      "cell_type": "code",
      "source": [
        "# Create New Dictionary\n",
        "Dict = {1: 'Python for', 'Data': 'Science', 3: 'Learning'}\n",
        "\n",
        "# accessing a element using key\n",
        "print(\"Accessing a element using key:\")\n",
        "print(Dict['Data'])\n",
        "\n",
        "# accessing a element using key\n",
        "print(\"Accessing a element using key:\")\n",
        "print(Dict[1])\n"
      ],
      "metadata": {
        "colab": {
          "base_uri": "https://localhost:8080/"
        },
        "id": "oXQ2E11SRaLK",
        "outputId": "f419f467-8e8c-40c0-c2f7-886f8499183e"
      },
      "execution_count": null,
      "outputs": [
        {
          "output_type": "stream",
          "name": "stdout",
          "text": [
            "Accessing a element using key:\n",
            "Science\n",
            "Accessing a element using key:\n",
            "Python for\n"
          ]
        }
      ]
    },
    {
      "cell_type": "code",
      "source": [
        "# A collection of popular Dictionary methods that we use in our daily lives\n",
        "dictionary = {1: \"Python\", 2: \"C++\", 3: \"Ruby\", 4: \"R\"}\n",
        "\n",
        "# copy() method\n",
        "dict2 = dictionary.copy()\n",
        "print(dict2)\n",
        "\n",
        "# clear() method\n",
        "dictionary.clear()\n",
        "print(dictionary)\n",
        "\n",
        "# get() method\n",
        "print(dict2.get(3))\n",
        "\n",
        "# items() method\n",
        "print(dict2.items())\n",
        "\n",
        "# keys() method\n",
        "print(dict2.keys())\n",
        "\n",
        "# pop() method\n",
        "dict2.pop(2)\n",
        "print(dict2)\n",
        "\n",
        "# popitem() method\n",
        "dict2.popitem()\n",
        "print(dict2)\n",
        "\n",
        "# update() method\n",
        "dict2.update({4: \"Kotlin\"})\n",
        "print(dict2)\n",
        "\n",
        "# values() method\n",
        "print(dict2.values())"
      ],
      "metadata": {
        "colab": {
          "base_uri": "https://localhost:8080/"
        },
        "id": "R70RYuK_RuND",
        "outputId": "af0439af-42a6-4ea0-dad8-bdd99cab3332"
      },
      "execution_count": 43,
      "outputs": [
        {
          "output_type": "stream",
          "name": "stdout",
          "text": [
            "{1: 'Python', 2: 'C++', 3: 'Ruby', 4: 'R'}\n",
            "{}\n",
            "Ruby\n",
            "dict_items([(1, 'Python'), (2, 'C++'), (3, 'Ruby'), (4, 'R')])\n",
            "dict_keys([1, 2, 3, 4])\n",
            "{1: 'Python', 3: 'Ruby', 4: 'R'}\n",
            "{1: 'Python', 3: 'Ruby'}\n",
            "{1: 'Python', 3: 'Ruby', 4: 'Kotlin'}\n",
            "dict_values(['Python', 'Ruby', 'Kotlin'])\n",
            "[2, 8, 7]\n"
          ]
        }
      ]
    }
  ]
}
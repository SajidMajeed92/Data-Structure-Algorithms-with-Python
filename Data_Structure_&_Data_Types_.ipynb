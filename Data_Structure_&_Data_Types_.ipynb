{
  "nbformat": 4,
  "nbformat_minor": 0,
  "metadata": {
    "colab": {
      "provenance": [],
      "authorship_tag": "ABX9TyN5IxJO3dxoniX1F64XgQKF",
      "include_colab_link": true
    },
    "kernelspec": {
      "name": "python3",
      "display_name": "Python 3"
    },
    "language_info": {
      "name": "python"
    }
  },
  "cells": [
    {
      "cell_type": "markdown",
      "metadata": {
        "id": "view-in-github",
        "colab_type": "text"
      },
      "source": [
        "<a href=\"https://colab.research.google.com/github/SajidMajeed92/Data-Structures-Algorithms-with-Python/blob/main/Data_Structure_%26_Data_Types_.ipynb\" target=\"_parent\"><img src=\"https://colab.research.google.com/assets/colab-badge.svg\" alt=\"Open In Colab\"/></a>"
      ]
    },
    {
      "cell_type": "markdown",
      "source": [
        " **Getting the Data Type**<br>\n",
        "Data structure is a data organization, management, and storage format that enables efficient access and modification. More precisely, a data structure is a collection of data values, the relationships among them, and the functions or operations that can be applied to the data.\n",
        "<br>\n",
        "On the other hand, Data type is a concept specific to a programming language. In a way, it is a concrete implementation of a data structure in a particular programming language (be it Python or any other language).\n",
        "The actual definition of what constitutes a \"type\" varies among programming languages. Talking about Python, there are basic data types like int, float, string etc. You can use the built-in types like list, set etc. which we will be covering in this session.\n",
        "<br>\n",
        "Calling these data types as data structures won’t be wrong because there is no major difference between the two in Python."
      ],
      "metadata": {
        "id": "RKBCYcP9n6KR"
      }
    },
    {
      "cell_type": "code",
      "execution_count": 5,
      "metadata": {
        "colab": {
          "base_uri": "https://localhost:8080/"
        },
        "id": "4mfLcwaXmnJS",
        "outputId": "9cbec85f-40de-4657-cc26-123d83eb10ae"
      },
      "outputs": [
        {
          "output_type": "stream",
          "name": "stdout",
          "text": [
            "<class 'int'>\n",
            "<class 'str'>\n",
            "<class 'float'>\n",
            "<class 'bool'>\n"
          ]
        }
      ],
      "source": [
        "#You can get the data type of any object by using the type( ) function:\n",
        "#Numerical Types: int (integer), float (decimal)\n",
        "#Text Type: str (string)\n",
        "#Boolean Type: bool (True or False)\n",
        "\n",
        "a = 4\n",
        "print(type(a))\n",
        "b=\"Hello\"\n",
        "print(type(b))\n",
        "c= 10.5\n",
        "print(type(c))\n",
        "boolvar = True\n",
        "print(type(boolvar))\n"
      ]
    },
    {
      "cell_type": "markdown",
      "source": [
        "**Strings**<br>\n",
        "Sequence Types\n",
        "*   There are seven sequence types: strings, Unicode strings, lists, tuples, bytearrays, buffers, and xrange objects.\n",
        "*   Sequences allow you to store multiple values in an organized and efficient way.\n",
        "\n",
        "\n"
      ],
      "metadata": {
        "id": "dVmXftXipwJc"
      }
    },
    {
      "cell_type": "markdown",
      "source": [
        "**Python Strings**<br>\n",
        "* Strings are sequence of characters.\n",
        "* Let us see some examples of String: \"My name is Sajid\", \"Sajid\", \"Go to    Univeristy\". All these are examples of String.\n",
        "* In Python, Strings are called str.\n",
        "There is a specific way of defining String in Python – it is defined within single quote (‘) or double quotes (“) or even triple quotes (“‘)."
      ],
      "metadata": {
        "id": "MTC-jvJDqpaS"
      }
    },
    {
      "cell_type": "markdown",
      "source": [
        "**Accessing String Elements**"
      ],
      "metadata": {
        "id": "NUhJYLqqrnnQ"
      }
    },
    {
      "cell_type": "code",
      "source": [
        "# Square brackets can be used to access elements of the string.\n",
        "# Remember that the first character has index 0.\n",
        "# Index refers to position of a character in a string. In python index number starts from 0.\n",
        "\n",
        "# String Slicing\n",
        "# We can also call out a range of characters from the string using string slicing.\n",
        "# Specify the start index and the end index, separated by a colon, to return a part of the string. Note that the character of the end index is not included.\n",
        "# Suppose we want to print World from the string “Hello World”. We can do so as below:\n",
        "a = \"Pakistan, Zindabad!\"\n",
        "print(a[1])\n",
        "a = \"Pakistan, Zindabad!\"\n",
        "print(a[1:7])\n",
        "a = \"Pakistan, Zindabad!\"\n",
        "print(a[:])"
      ],
      "metadata": {
        "colab": {
          "base_uri": "https://localhost:8080/"
        },
        "id": "Cu2OvFyxrusS",
        "outputId": "ec3ddc1b-2e7a-4632-9868-8dc0d2312e74"
      },
      "execution_count": 11,
      "outputs": [
        {
          "output_type": "stream",
          "name": "stdout",
          "text": [
            "a\n",
            "akista\n",
            "Pakistan, Zindabad!\n"
          ]
        }
      ]
    },
    {
      "cell_type": "markdown",
      "source": [
        "**Negative Indexing**\n",
        "* If we have a long string and we want to pinpoint an item towards the end, we can also count backwards from the end of the string, starting at the index number -1.\n",
        "* Printing ‘r’ from the string:\n",
        "\n"
      ],
      "metadata": {
        "id": "SVAMq_Fhs6ek"
      }
    },
    {
      "cell_type": "code",
      "source": [
        "a = \"Pakistan, Zindabad!\"\n",
        "print(a[1:7])\n",
        "print(a[-4])\n",
        "# Get the characters from position -5 to position -3, starting the count from the end of the string:\n",
        "print(a[-5:-2])"
      ],
      "metadata": {
        "colab": {
          "base_uri": "https://localhost:8080/"
        },
        "id": "W-87cK0ftMMt",
        "outputId": "3f8fb832-3903-45df-dd7a-6114114baaa5"
      },
      "execution_count": 12,
      "outputs": [
        {
          "output_type": "stream",
          "name": "stdout",
          "text": [
            "akista\n",
            "b\n",
            "aba\n"
          ]
        }
      ]
    },
    {
      "cell_type": "markdown",
      "source": [
        "**String Concatenation**\n",
        "\n",
        "* String concatenation means adding strings together.<br>\n",
        "* Use the + character to add a variable to another variable:"
      ],
      "metadata": {
        "id": "MPPTE34Wt9d4"
      }
    },
    {
      "cell_type": "code",
      "source": [
        "x = \"Python is \"\n",
        "y = \"awesome\"\n",
        "z =  x + y\n",
        "print(z)\n",
        "\n",
        "# without spaces\n",
        "# We can also add spaces between two strings\n",
        "x = \"ab \"\n",
        "y = \"cd\"\n",
        "print(x+y)\n",
        "\n",
        "# We can also add spaces between two strings\n",
        "x = \"ab \"\n",
        "y = \"cd\"\n",
        "print(x+\" \"+y)"
      ],
      "metadata": {
        "colab": {
          "base_uri": "https://localhost:8080/"
        },
        "id": "SuRDqVjAuGqP",
        "outputId": "d7494521-62ed-401a-81e3-8bd7e45b2292"
      },
      "execution_count": 16,
      "outputs": [
        {
          "output_type": "stream",
          "name": "stdout",
          "text": [
            "Python is awesome\n",
            "ab cd\n",
            "ab  cd\n"
          ]
        }
      ]
    },
    {
      "cell_type": "markdown",
      "source": [
        "**String Length**\n"
      ],
      "metadata": {
        "id": "L0QmfdB_uxBm"
      }
    },
    {
      "cell_type": "code",
      "source": [
        "# To get the length of a string, use the len( ) function.\n",
        "a = \"Pakistan, Zindabad!\"\n",
        "print(len(a))\n"
      ],
      "metadata": {
        "colab": {
          "base_uri": "https://localhost:8080/"
        },
        "id": "i6Y6MXKAu1eI",
        "outputId": "ec9c6491-23f8-4546-e39e-e4b5ee787329"
      },
      "execution_count": 17,
      "outputs": [
        {
          "output_type": "stream",
          "name": "stdout",
          "text": [
            "19\n"
          ]
        }
      ]
    }
  ]
}
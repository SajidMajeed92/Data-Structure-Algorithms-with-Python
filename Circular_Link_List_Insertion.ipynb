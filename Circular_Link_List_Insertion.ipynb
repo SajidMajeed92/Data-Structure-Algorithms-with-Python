{
  "nbformat": 4,
  "nbformat_minor": 0,
  "metadata": {
    "colab": {
      "provenance": [],
      "authorship_tag": "ABX9TyOvDT17g3+Px+nM1ZVF4pGH",
      "include_colab_link": true
    },
    "kernelspec": {
      "name": "python3",
      "display_name": "Python 3"
    },
    "language_info": {
      "name": "python"
    }
  },
  "cells": [
    {
      "cell_type": "markdown",
      "metadata": {
        "id": "view-in-github",
        "colab_type": "text"
      },
      "source": [
        "<a href=\"https://colab.research.google.com/github/SajidMajeed92/Data-Structures-Algorithms-with-Python/blob/main/Circular_Link_List_Insertion.ipynb\" target=\"_parent\"><img src=\"https://colab.research.google.com/assets/colab-badge.svg\" alt=\"Open In Colab\"/></a>"
      ]
    },
    {
      "cell_type": "code",
      "execution_count": 1,
      "metadata": {
        "colab": {
          "base_uri": "https://localhost:8080/"
        },
        "id": "8A9kPjQz_Sk_",
        "outputId": "0cb4a4e5-833b-4b33-b4ba-c3d34bd4fe23"
      },
      "outputs": [
        {
          "output_type": "stream",
          "name": "stdout",
          "text": [
            "A\n",
            "B\n",
            "C\n",
            "D\n"
          ]
        }
      ],
      "source": [
        "class Node:\n",
        "    def __init__(self, data):\n",
        "        self.data = data \n",
        "        self.next = None\n",
        "\n",
        "\n",
        "class CircularLinkedList:\n",
        "    def __init__(self):\n",
        "        self.head = None \n",
        "\n",
        "    def prepend(self, data):\n",
        "        new_node = Node(data)\n",
        "        cur = self.head \n",
        "        new_node.next = self.head\n",
        "\n",
        "        if not self.head:\n",
        "            new_node.next = new_node\n",
        "        else:\n",
        "            while cur.next != self.head:\n",
        "                cur = cur.next\n",
        "            cur.next = new_node\n",
        "        self.head = new_node\n",
        "\n",
        "    def append(self, data):\n",
        "        if not self.head:\n",
        "            self.head = Node(data)\n",
        "            self.head.next = self.head\n",
        "        else:\n",
        "            new_node = Node(data)\n",
        "            cur = self.head\n",
        "            while cur.next != self.head:\n",
        "                cur = cur.next\n",
        "            cur.next = new_node\n",
        "            new_node.next = self.head\n",
        "\n",
        "    def print_list(self):\n",
        "        cur = self.head \n",
        "\n",
        "        while cur:\n",
        "            print(cur.data)\n",
        "            cur = cur.next\n",
        "            if cur == self.head:\n",
        "                break\n",
        "\n",
        "\n",
        "cllist = CircularLinkedList()\n",
        "cllist.append(\"C\")\n",
        "cllist.append(\"D\")\n",
        "cllist.prepend(\"B\")\n",
        "cllist.prepend(\"A\")\n",
        "cllist.print_list()"
      ]
    }
  ]
}
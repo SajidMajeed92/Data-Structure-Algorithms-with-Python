{
  "nbformat": 4,
  "nbformat_minor": 0,
  "metadata": {
    "colab": {
      "provenance": [],
      "authorship_tag": "ABX9TyOXQnDOD0DqJpZ+z0wxd//l",
      "include_colab_link": true
    },
    "kernelspec": {
      "name": "python3",
      "display_name": "Python 3"
    },
    "language_info": {
      "name": "python"
    }
  },
  "cells": [
    {
      "cell_type": "markdown",
      "metadata": {
        "id": "view-in-github",
        "colab_type": "text"
      },
      "source": [
        "<a href=\"https://colab.research.google.com/github/SajidMajeed92/Data-Structures-Algorithms-with-Python/blob/main/BasicCommands.ipynb\" target=\"_parent\"><img src=\"https://colab.research.google.com/assets/colab-badge.svg\" alt=\"Open In Colab\"/></a>"
      ]
    },
    {
      "cell_type": "markdown",
      "source": [
        "**# Basics of Python**"
      ],
      "metadata": {
        "id": "s-DPe74Ja57h"
      }
    },
    {
      "cell_type": "code",
      "execution_count": 1,
      "metadata": {
        "colab": {
          "base_uri": "https://localhost:8080/"
        },
        "id": "2G7sZcWEZhfs",
        "outputId": "b8c87939-14e0-481e-eded-b3a0ab0db2dd"
      },
      "outputs": [
        {
          "output_type": "stream",
          "name": "stdout",
          "text": [
            "Learning Python\n"
          ]
        }
      ],
      "source": [
        "print(\"Learning Python\")"
      ]
    },
    {
      "cell_type": "markdown",
      "source": [
        "***Comments in Python***"
      ],
      "metadata": {
        "id": "RmgKQopnbEBo"
      }
    },
    {
      "cell_type": "code",
      "source": [
        "# Assign a value 25 to number (# symbol used for Comments)\n",
        "number = 25\n",
        "number"
      ],
      "metadata": {
        "colab": {
          "base_uri": "https://localhost:8080/"
        },
        "id": "Y3miR9TfbJ3A",
        "outputId": "0e262ad1-2e11-446d-9992-9cc68222e57b"
      },
      "execution_count": 3,
      "outputs": [
        {
          "output_type": "execute_result",
          "data": {
            "text/plain": [
              "25"
            ]
          },
          "metadata": {},
          "execution_count": 3
        }
      ]
    },
    {
      "cell_type": "markdown",
      "source": [
        "***Operators in Python***"
      ],
      "metadata": {
        "id": "9ME8m-tbb5iQ"
      }
    },
    {
      "cell_type": "code",
      "source": [
        "# Arithmetic Operators\n",
        "# We can perform some basic arithmetic operations such as addition, subtraction, multiplication, etc. using Python.\n",
        "#Example:\n",
        "\n",
        "x = 20\n",
        "y = 3\n",
        "print(x + y)    # Addition\n",
        "print(x * y)    # Multiplication\n",
        "print(x - y)    # Substraction\n",
        "print(x / y)    # Division\n",
        "print(x % y)    # Modulus\n",
        "print(x ** y)   # Exponent\n",
        "print(x // y)   # Floor \n"
      ],
      "metadata": {
        "colab": {
          "base_uri": "https://localhost:8080/"
        },
        "id": "Z2AB1gtGb8AH",
        "outputId": "9a866135-06cb-4c05-9059-ceabfc4d5a45"
      },
      "execution_count": 11,
      "outputs": [
        {
          "output_type": "stream",
          "name": "stdout",
          "text": [
            "23\n",
            "60\n",
            "17\n",
            "6.666666666666667\n",
            "2\n",
            "8000\n",
            "6\n"
          ]
        }
      ]
    },
    {
      "cell_type": "markdown",
      "source": [
        "\n",
        "***Comparison Operator*** "
      ],
      "metadata": {
        "id": "tU6xnEKuhAat"
      }
    },
    {
      "cell_type": "code",
      "source": [
        "# These are used to compare two values\n",
        "# Gives a Boolean result (True/False)\n",
        "\n",
        "# Numeric Calculation\n",
        "number_1 = 25\n",
        "number_2 = 30\n",
        "\n",
        "print(number_1 >  number_2)\n",
        "print(number_1 <  number_2)\n",
        "print(number_1 == number_2)\n",
        "print(number_1 != number_2)\n",
        "print(number_1 >= number_2)\n",
        "print(number_1 <= number_2)"
      ],
      "metadata": {
        "colab": {
          "base_uri": "https://localhost:8080/"
        },
        "id": "S_OUe1c_hQSs",
        "outputId": "b97c597b-51f6-4181-ab8c-f9ebb9c4ae40"
      },
      "execution_count": 14,
      "outputs": [
        {
          "output_type": "stream",
          "name": "stdout",
          "text": [
            "False\n",
            "True\n",
            "False\n",
            "True\n",
            "False\n",
            "True\n"
          ]
        }
      ]
    },
    {
      "cell_type": "code",
      "source": [
        "# Other Comparision\n",
        "fruit= \"Apple\"\n",
        "print (fruit == 'Apple')\t\n",
        "print (fruit != 'Apple')\t\n",
        "print (fruit < 'Apple')\t\n",
        "print (fruit > 'Apple')\t\n",
        "print (fruit <= 'Apple')\t\n",
        "print (fruit >= 'Apple')\t"
      ],
      "metadata": {
        "colab": {
          "base_uri": "https://localhost:8080/"
        },
        "id": "YmonGw3AiXfz",
        "outputId": "65766996-abfc-4eca-9ead-a7c44b39a76c"
      },
      "execution_count": 26,
      "outputs": [
        {
          "output_type": "stream",
          "name": "stdout",
          "text": [
            "True\n",
            "False\n",
            "False\n",
            "False\n",
            "True\n",
            "True\n"
          ]
        }
      ]
    },
    {
      "cell_type": "markdown",
      "source": [
        "**Logical Operator**"
      ],
      "metadata": {
        "id": "Q1ofM76flSGE"
      }
    },
    {
      "cell_type": "code",
      "source": [
        "# Logical operators are used to combine conditional statements\n",
        "# Gives a Boolean result (True/False)\n",
        "number_1 = 25\n",
        "print (number_1<10 and number_1>50) \n",
        "print (number_1>10 and number_1<50)\n",
        "print (number_1>10 or number_1<50)\n",
        "print (number_1<10 or number_1>50)"
      ],
      "metadata": {
        "colab": {
          "base_uri": "https://localhost:8080/"
        },
        "id": "imxScvv7liOI",
        "outputId": "30219f48-a5d1-4385-ed28-4d87c7c4e3b9"
      },
      "execution_count": 31,
      "outputs": [
        {
          "output_type": "stream",
          "name": "stdout",
          "text": [
            "False\n",
            "True\n",
            "True\n",
            "False\n"
          ]
        }
      ]
    }
  ]
}
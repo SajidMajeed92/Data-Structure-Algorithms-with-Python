{
  "nbformat": 4,
  "nbformat_minor": 0,
  "metadata": {
    "colab": {
      "provenance": [],
      "authorship_tag": "ABX9TyO+Jgnxb9xUtH7HoMY+iveA",
      "include_colab_link": true
    },
    "kernelspec": {
      "name": "python3",
      "display_name": "Python 3"
    },
    "language_info": {
      "name": "python"
    }
  },
  "cells": [
    {
      "cell_type": "markdown",
      "metadata": {
        "id": "view-in-github",
        "colab_type": "text"
      },
      "source": [
        "<a href=\"https://colab.research.google.com/github/SajidMajeed92/Data-Structures-Algorithms-with-Python/blob/main/BasicCommands.ipynb\" target=\"_parent\"><img src=\"https://colab.research.google.com/assets/colab-badge.svg\" alt=\"Open In Colab\"/></a>"
      ]
    },
    {
      "cell_type": "markdown",
      "source": [
        "**Basics of Python**"
      ],
      "metadata": {
        "id": "s-DPe74Ja57h"
      }
    },
    {
      "cell_type": "code",
      "execution_count": null,
      "metadata": {
        "colab": {
          "base_uri": "https://localhost:8080/"
        },
        "id": "2G7sZcWEZhfs",
        "outputId": "b8c87939-14e0-481e-eded-b3a0ab0db2dd"
      },
      "outputs": [
        {
          "output_type": "stream",
          "name": "stdout",
          "text": [
            "Learning Python\n"
          ]
        }
      ],
      "source": [
        "print(\"Learning Python\")"
      ]
    },
    {
      "cell_type": "markdown",
      "source": [
        "**Comments in Python**"
      ],
      "metadata": {
        "id": "RmgKQopnbEBo"
      }
    },
    {
      "cell_type": "code",
      "source": [
        "# Assign a value 25 to number (# symbol used for Comments)\n",
        "number = 25\n",
        "number"
      ],
      "metadata": {
        "colab": {
          "base_uri": "https://localhost:8080/"
        },
        "id": "Y3miR9TfbJ3A",
        "outputId": "0e262ad1-2e11-446d-9992-9cc68222e57b"
      },
      "execution_count": null,
      "outputs": [
        {
          "output_type": "execute_result",
          "data": {
            "text/plain": [
              "25"
            ]
          },
          "metadata": {},
          "execution_count": 3
        }
      ]
    },
    {
      "cell_type": "markdown",
      "source": [
        "**Operators in Python**"
      ],
      "metadata": {
        "id": "9ME8m-tbb5iQ"
      }
    },
    {
      "cell_type": "code",
      "source": [
        "# Arithmetic Operators\n",
        "# We can perform some basic arithmetic operations such as addition, subtraction, multiplication, etc. using Python.\n",
        "#Example:\n",
        "\n",
        "x = 20\n",
        "y = 3\n",
        "print(x + y)    # Addition\n",
        "print(x * y)    # Multiplication\n",
        "print(x - y)    # Substraction\n",
        "print(x / y)    # Division\n",
        "print(x % y)    # Modulus\n",
        "print(x ** y)   # Exponent\n",
        "print(x // y)   # Floor \n"
      ],
      "metadata": {
        "colab": {
          "base_uri": "https://localhost:8080/"
        },
        "id": "Z2AB1gtGb8AH",
        "outputId": "9a866135-06cb-4c05-9059-ceabfc4d5a45"
      },
      "execution_count": null,
      "outputs": [
        {
          "output_type": "stream",
          "name": "stdout",
          "text": [
            "23\n",
            "60\n",
            "17\n",
            "6.666666666666667\n",
            "2\n",
            "8000\n",
            "6\n"
          ]
        }
      ]
    },
    {
      "cell_type": "markdown",
      "source": [
        "\n",
        "**Comparison Operator**"
      ],
      "metadata": {
        "id": "tU6xnEKuhAat"
      }
    },
    {
      "cell_type": "code",
      "source": [
        "# These are used to compare two values\n",
        "# Gives a Boolean result (True/False)\n",
        "\n",
        "# Numeric Calculation\n",
        "number_1 = 25\n",
        "number_2 = 30\n",
        "\n",
        "print(number_1 >  number_2)\n",
        "print(number_1 <  number_2)\n",
        "print(number_1 == number_2)\n",
        "print(number_1 != number_2)\n",
        "print(number_1 >= number_2)\n",
        "print(number_1 <= number_2)"
      ],
      "metadata": {
        "colab": {
          "base_uri": "https://localhost:8080/"
        },
        "id": "S_OUe1c_hQSs",
        "outputId": "b97c597b-51f6-4181-ab8c-f9ebb9c4ae40"
      },
      "execution_count": null,
      "outputs": [
        {
          "output_type": "stream",
          "name": "stdout",
          "text": [
            "False\n",
            "True\n",
            "False\n",
            "True\n",
            "False\n",
            "True\n"
          ]
        }
      ]
    },
    {
      "cell_type": "code",
      "source": [
        "# Other Comparision\n",
        "fruit= \"Apple\"\n",
        "print (fruit == 'Apple')\t\n",
        "print (fruit != 'Apple')\t\n",
        "print (fruit < 'Apple')\t\n",
        "print (fruit > 'Apple')\t\n",
        "print (fruit <= 'Apple')\t\n",
        "print (fruit >= 'Apple')\t"
      ],
      "metadata": {
        "colab": {
          "base_uri": "https://localhost:8080/"
        },
        "id": "YmonGw3AiXfz",
        "outputId": "65766996-abfc-4eca-9ead-a7c44b39a76c"
      },
      "execution_count": null,
      "outputs": [
        {
          "output_type": "stream",
          "name": "stdout",
          "text": [
            "True\n",
            "False\n",
            "False\n",
            "False\n",
            "True\n",
            "True\n"
          ]
        }
      ]
    },
    {
      "cell_type": "markdown",
      "source": [
        "**Logical Operator**"
      ],
      "metadata": {
        "id": "Q1ofM76flSGE"
      }
    },
    {
      "cell_type": "code",
      "source": [
        "# Logical operators are used to combine conditional statements\n",
        "# Gives a Boolean result (True/False)\n",
        "number_1 = 25\n",
        "print (number_1<10 and number_1>50) \n",
        "print (number_1>10 and number_1<50)\n",
        "print (number_1>10 or number_1<50)\n",
        "print (number_1<10 or number_1>50)"
      ],
      "metadata": {
        "colab": {
          "base_uri": "https://localhost:8080/"
        },
        "id": "imxScvv7liOI",
        "outputId": "30219f48-a5d1-4385-ed28-4d87c7c4e3b9"
      },
      "execution_count": null,
      "outputs": [
        {
          "output_type": "stream",
          "name": "stdout",
          "text": [
            "False\n",
            "True\n",
            "True\n",
            "False\n"
          ]
        }
      ]
    },
    {
      "cell_type": "markdown",
      "source": [
        "**Variable**"
      ],
      "metadata": {
        "id": "IPQw-0I0m2o9"
      }
    },
    {
      "cell_type": "code",
      "source": [
        "# A variable can be considered as a storage container for data.\n",
        "# Every variable will have a name.\n",
        "# It is a good way to store information while making it easy to refer to that information in our code later.\n",
        "# The equal sign (=) is used to assign values to variables.\n",
        "# The syntax for assigning values to a variable is as follows: Variable name = value or information.\n",
        "\n",
        "Name = \"Sajid\"\n",
        "Age = 30\n",
        "IP = \"192.168.0.0\"\n",
        "print (Name)\n",
        "print (Age)\n",
        "print (IP)"
      ],
      "metadata": {
        "colab": {
          "base_uri": "https://localhost:8080/"
        },
        "id": "bH8_1RdTm475",
        "outputId": "079d3490-37eb-47f9-c1cf-8c32caf05e26"
      },
      "execution_count": null,
      "outputs": [
        {
          "output_type": "stream",
          "name": "stdout",
          "text": [
            "Sajid\n",
            "30\n",
            "192.168.0.0\n"
          ]
        }
      ]
    },
    {
      "cell_type": "markdown",
      "source": [
        "**Input and Output in Python**"
      ],
      "metadata": {
        "id": "qDjj-ncqbKfb"
      }
    },
    {
      "cell_type": "code",
      "source": [
        "# Print Function\n",
        "print (\"Data Structure with Python\")\n",
        "# Input Function\n",
        "age  = int(input(\"What is your Age:\"))\n",
        "print (age)\n",
        "print(type(age))\n",
        "name = input(\"What is your Name:\")\n",
        "print (name)\n",
        "print(type(name))\n",
        "x= 2*2**3\n",
        "print(x)"
      ],
      "metadata": {
        "colab": {
          "base_uri": "https://localhost:8080/"
        },
        "id": "nKnzQClgchJ8",
        "outputId": "a61d044a-bb5f-4cb8-e8b1-8249ea1bf854"
      },
      "execution_count": null,
      "outputs": [
        {
          "output_type": "stream",
          "name": "stdout",
          "text": [
            "Data Structure with Python\n",
            "What is your Age:2\n",
            "2\n",
            "<class 'int'>\n",
            "What is your Name:sajid\n",
            "sajid\n",
            "<class 'str'>\n",
            "16\n"
          ]
        }
      ]
    },
    {
      "cell_type": "markdown",
      "source": [
        "**Task Excercise**<br>\n",
        "**1-Consider two numbers, a = 4, b = 16. Write a Python program to print the sum of these two numbers.**<br>\n",
        "**2- Write a Python program to take a number from the user as input and print the cube of the number.**"
      ],
      "metadata": {
        "id": "j9_0-CrmgIR9"
      }
    },
    {
      "cell_type": "code",
      "source": [
        "#Task 1\n",
        "# Take two number a & B\n",
        "a = 4\n",
        "b = 16\n",
        "print(a+b)\n",
        "\n",
        "#Task 2\n",
        "number = int (input(\"Enter Your Number:\"))\n",
        "print(number**3)"
      ],
      "metadata": {
        "colab": {
          "base_uri": "https://localhost:8080/"
        },
        "id": "LrzL0v_Vgz3z",
        "outputId": "4048111c-e293-43f9-dc8d-515b4c34741f"
      },
      "execution_count": null,
      "outputs": [
        {
          "output_type": "stream",
          "name": "stdout",
          "text": [
            "20\n",
            "Enter Your Number:3\n",
            "27\n"
          ]
        }
      ]
    }
  ]
}
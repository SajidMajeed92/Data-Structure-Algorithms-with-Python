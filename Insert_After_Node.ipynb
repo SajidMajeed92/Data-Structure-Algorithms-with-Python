{
  "nbformat": 4,
  "nbformat_minor": 0,
  "metadata": {
    "colab": {
      "provenance": [],
      "authorship_tag": "ABX9TyOoO1waiQgJ+H/SfHdXXLPS",
      "include_colab_link": true
    },
    "kernelspec": {
      "name": "python3",
      "display_name": "Python 3"
    },
    "language_info": {
      "name": "python"
    }
  },
  "cells": [
    {
      "cell_type": "markdown",
      "metadata": {
        "id": "view-in-github",
        "colab_type": "text"
      },
      "source": [
        "<a href=\"https://colab.research.google.com/github/SajidMajeed92/Data-Structures-Algorithms-with-Python/blob/main/Insert_After_Node.ipynb\" target=\"_parent\"><img src=\"https://colab.research.google.com/assets/colab-badge.svg\" alt=\"Open In Colab\"/></a>"
      ]
    },
    {
      "cell_type": "code",
      "execution_count": 1,
      "metadata": {
        "colab": {
          "base_uri": "https://localhost:8080/"
        },
        "id": "oXdQzbdIKai0",
        "outputId": "458817e4-86e4-4f58-a1ec-5421742ba04c"
      },
      "outputs": [
        {
          "output_type": "stream",
          "name": "stdout",
          "text": [
            "A\n",
            "B\n",
            "D\n",
            "C\n"
          ]
        }
      ],
      "source": [
        "class Node:\n",
        "  def __init__(self, data):\n",
        "    self.data = data\n",
        "    self.next = None\n",
        "\n",
        "class LinkedList:\n",
        "  def __init__(self):\n",
        "    self.head = None\n",
        "  \n",
        "  def print_list(self):\n",
        "    cur_node = self.head\n",
        "    while cur_node:\n",
        "      print(cur_node.data)\n",
        "      cur_node = cur_node.next\n",
        "\n",
        "  def append(self, data):\n",
        "    new_node = Node(data)\n",
        "    if self.head is None:\n",
        "      self.head = new_node\n",
        "      return\n",
        "    last_node = self.head\n",
        "    while last_node.next:\n",
        "      last_node = last_node.next\n",
        "    last_node.next = new_node\n",
        "\n",
        "  def prepend(self, data):\n",
        "    new_node = Node(data)\n",
        "\n",
        "    new_node.next = self.head\n",
        "    self.head = new_node\n",
        "  \n",
        "  def insert_after_node(self, prev_node, data):\n",
        "    if not prev_node:\n",
        "      print(\"Previous node does not exist.\")\n",
        "      return\n",
        "    new_node = Node(data)\n",
        "\n",
        "    new_node.next = prev_node.next\n",
        "    prev_node.next = new_node\n",
        "\n",
        "  \n",
        "  \n",
        "llist = LinkedList()\n",
        "llist.append(\"A\")\n",
        "llist.append(\"B\")\n",
        "llist.append(\"C\")\n",
        "\n",
        "\n",
        "llist.insert_after_node(llist.head.next, \"D\")\n",
        "\n",
        "llist.print_list()  "
      ]
    }
  ]
}
{
  "nbformat": 4,
  "nbformat_minor": 0,
  "metadata": {
    "colab": {
      "provenance": [],
      "authorship_tag": "ABX9TyPVi7zjkw9BhC10TAaUKaDW",
      "include_colab_link": true
    },
    "kernelspec": {
      "name": "python3",
      "display_name": "Python 3"
    },
    "language_info": {
      "name": "python"
    }
  },
  "cells": [
    {
      "cell_type": "markdown",
      "metadata": {
        "id": "view-in-github",
        "colab_type": "text"
      },
      "source": [
        "<a href=\"https://colab.research.google.com/github/SajidMajeed92/Data-Structures-Algorithms-with-Python/blob/main/Introduction_%26_Implementation_of_List_%26_Tuple_in_Python_.ipynb\" target=\"_parent\"><img src=\"https://colab.research.google.com/assets/colab-badge.svg\" alt=\"Open In Colab\"/></a>"
      ]
    },
    {
      "cell_type": "markdown",
      "source": [
        "**List**<br>\n",
        "Lists are used to store multiple items in a single variable.<br>\n",
        "Declaring a List is fairly straightforward. You use square brackets ([]) and separate the items by a comma. <br>Let me write an example -<br>\n",
        "A = [\"Meat\", \"Ali\", 48851964400, 3.14, \"Bread\"]<br><br>\n",
        "Lists are mutable. Say if you want to change some item on a List, you can do that. For example, if I don’t like 'Meat', and want to replace this with 'Morning Walk', I can do it –<br>\n",
        "A = [\"Morning Walk\", \"Leuven\", 48851964400, 3.14, \"Mom\"] <br><br>\n",
        "Some essential features of Python lists are:<br>\n",
        "* Collection of values\n",
        "* Can be of any data type\n",
        "* Can be a combination of different types"
      ],
      "metadata": {
        "id": "I20HL3xxn9OE"
      }
    },
    {
      "cell_type": "code",
      "source": [
        "fruit_list = [\"Apple\",\"Berry\",\"Banana\",\"Pine Apple\"]\n",
        "print(fruit_list)"
      ],
      "metadata": {
        "id": "MwdKTcPAqy6T",
        "colab": {
          "base_uri": "https://localhost:8080/"
        },
        "outputId": "5db84250-eecc-44ee-8c10-280bb8be6226"
      },
      "execution_count": null,
      "outputs": [
        {
          "output_type": "stream",
          "name": "stdout",
          "text": [
            "['Apple', 'Berry', 'Banana', 'Pine Apple']\n"
          ]
        }
      ]
    },
    {
      "cell_type": "markdown",
      "source": [
        "**List Method**\n",
        "\n",
        "\n"
      ],
      "metadata": {
        "id": "2N834ZhgvDDF"
      }
    },
    {
      "cell_type": "code",
      "source": [
        "#.append()\n",
        "#In Python, you can add values to the end of a list using the .append() method.\n",
        "\n",
        "fruit_list = [\"Apple\",\"Berry\",\"Banana\",\"Pine Apple\",\"Banana\"]\n",
        "print(fruit_list)\n",
        "fruit_list.append(\"Guava\")\n",
        "print(fruit_list)\n",
        "\n",
        "#.count()\n",
        "#The .count() Python list method searches a list for whatever search term it receives as an argument, then returns the number of matching entries found.\n",
        "\n",
        "fruit=fruit_list.count(\"Banana\")\n",
        "print(fruit)\n",
        "\n",
        "#len()\n",
        "#The Python len() function can be used to determine the number of items found in the list it accepts as an argument.\n",
        "\n",
        "print(len(fruit_list))\n",
        "\n",
        "#.sort()\n",
        "#The .sort() Python list method will sort the contents of whatever list it is called on. Numerical lists will be sorted in ascending order, and lists of Strings will be sorted into alphabetical order. It modifies the original list, and has no return value.\n",
        "\n",
        "fruit_list.sort()\n",
        "print(fruit_list)\n",
        "\n",
        "# .index\n",
        "print(fruit_list.index(\"Guava\"))\n",
        "\n",
        "# Create new List\n",
        "\n",
        "l= [\"Kiwi\",\"Raspberry\",\"Orange\"]\n",
        "print(l)\n",
        "\n",
        "# Concatination of two list\n",
        "new_list = fruit_list + l\n",
        "print(new_list)\n"
      ],
      "metadata": {
        "id": "K-CIzbDzph1L",
        "colab": {
          "base_uri": "https://localhost:8080/"
        },
        "outputId": "207ab1c0-de97-4476-e0df-cce2532f32da"
      },
      "execution_count": 20,
      "outputs": [
        {
          "output_type": "stream",
          "name": "stdout",
          "text": [
            "['Apple', 'Berry', 'Banana', 'Pine Apple', 'Banana']\n",
            "['Apple', 'Berry', 'Banana', 'Pine Apple', 'Banana', 'Guava']\n",
            "2\n",
            "6\n",
            "['Apple', 'Banana', 'Banana', 'Berry', 'Guava', 'Pine Apple']\n",
            "4\n",
            "['Kiwi', 'Raspberry', 'Orange']\n",
            "['Apple', 'Banana', 'Banana', 'Berry', 'Guava', 'Pine Apple', 'Kiwi', 'Raspberry', 'Orange']\n"
          ]
        }
      ]
    },
    {
      "cell_type": "markdown",
      "source": [
        "**TUPLE** \n",
        "\n",
        "* Tuple is also an ordered sequence of items as List. Tuple also holds multiple data types.\n",
        "\n",
        "* The only difference in Tuple & List is that Tuple is immutable; once created it cannot be changed.\n",
        "\n",
        "* Creating a tuple is as simple as putting different comma-separated values within round brackets.<br>\n",
        "\n",
        "Example:<br>\n",
        "A = ('Bread', 'Ahsan', 48851964400, 3.14, 'Egg')"
      ],
      "metadata": {
        "id": "Nm6IP19N2QQW"
      }
    },
    {
      "cell_type": "code",
      "source": [
        "t = (4,5,3,4,5,2,7,2165, 58, 45)\n",
        "print(len(t))"
      ],
      "metadata": {
        "colab": {
          "base_uri": "https://localhost:8080/"
        },
        "id": "DfP5c5iT2SCu",
        "outputId": "9f311f67-5707-4b00-d530-4bc7d97f30dd"
      },
      "execution_count": 2,
      "outputs": [
        {
          "output_type": "stream",
          "name": "stdout",
          "text": [
            "10\n"
          ]
        }
      ]
    },
    {
      "cell_type": "code",
      "source": [],
      "metadata": {
        "id": "qE8PIsTBFIUZ"
      },
      "execution_count": null,
      "outputs": []
    },
    {
      "cell_type": "code",
      "source": [
        "# finding Element in a tuple\n",
        "print(t[0])\n",
        "print(t[7])\n",
        "print(t[110]) # Error here"
      ],
      "metadata": {
        "colab": {
          "base_uri": "https://localhost:8080/",
          "height": 235
        },
        "id": "K9MRhYT4Edd4",
        "outputId": "8cca0932-ac50-47ce-c86d-0d9b2aa10cb5"
      },
      "execution_count": 4,
      "outputs": [
        {
          "output_type": "stream",
          "name": "stdout",
          "text": [
            "4\n",
            "2165\n"
          ]
        },
        {
          "output_type": "error",
          "ename": "IndexError",
          "evalue": "ignored",
          "traceback": [
            "\u001b[0;31m---------------------------------------------------------------------------\u001b[0m",
            "\u001b[0;31mIndexError\u001b[0m                                Traceback (most recent call last)",
            "\u001b[0;32m<ipython-input-4-b5674b3ec7e5>\u001b[0m in \u001b[0;36m<module>\u001b[0;34m\u001b[0m\n\u001b[1;32m      2\u001b[0m \u001b[0mprint\u001b[0m\u001b[0;34m(\u001b[0m\u001b[0mt\u001b[0m\u001b[0;34m[\u001b[0m\u001b[0;36m0\u001b[0m\u001b[0;34m]\u001b[0m\u001b[0;34m)\u001b[0m\u001b[0;34m\u001b[0m\u001b[0;34m\u001b[0m\u001b[0m\n\u001b[1;32m      3\u001b[0m \u001b[0mprint\u001b[0m\u001b[0;34m(\u001b[0m\u001b[0mt\u001b[0m\u001b[0;34m[\u001b[0m\u001b[0;36m7\u001b[0m\u001b[0;34m]\u001b[0m\u001b[0;34m)\u001b[0m\u001b[0;34m\u001b[0m\u001b[0;34m\u001b[0m\u001b[0m\n\u001b[0;32m----> 4\u001b[0;31m \u001b[0mprint\u001b[0m\u001b[0;34m(\u001b[0m\u001b[0mt\u001b[0m\u001b[0;34m[\u001b[0m\u001b[0;36m110\u001b[0m\u001b[0;34m]\u001b[0m\u001b[0;34m)\u001b[0m\u001b[0;34m\u001b[0m\u001b[0;34m\u001b[0m\u001b[0m\n\u001b[0m",
            "\u001b[0;31mIndexError\u001b[0m: tuple index out of range"
          ]
        }
      ]
    },
    {
      "cell_type": "code",
      "source": [
        "# Assigning New Element in a tuple\n",
        "\n",
        "t[10]= 240 # Due to Imutable feature tuple doesn't support assignment\n",
        "print(t)\n"
      ],
      "metadata": {
        "colab": {
          "base_uri": "https://localhost:8080/",
          "height": 217
        },
        "id": "saJDj-5KFIWY",
        "outputId": "bb802abc-e377-45fe-ef3e-46154c7c1af3"
      },
      "execution_count": 5,
      "outputs": [
        {
          "output_type": "error",
          "ename": "TypeError",
          "evalue": "ignored",
          "traceback": [
            "\u001b[0;31m---------------------------------------------------------------------------\u001b[0m",
            "\u001b[0;31mTypeError\u001b[0m                                 Traceback (most recent call last)",
            "\u001b[0;32m<ipython-input-5-12b1abc77f64>\u001b[0m in \u001b[0;36m<module>\u001b[0;34m\u001b[0m\n\u001b[1;32m      1\u001b[0m \u001b[0;31m# Assigning New Element in a tuple\u001b[0m\u001b[0;34m\u001b[0m\u001b[0;34m\u001b[0m\u001b[0m\n\u001b[1;32m      2\u001b[0m \u001b[0;34m\u001b[0m\u001b[0m\n\u001b[0;32m----> 3\u001b[0;31m \u001b[0mt\u001b[0m\u001b[0;34m[\u001b[0m\u001b[0;36m10\u001b[0m\u001b[0;34m]\u001b[0m\u001b[0;34m=\u001b[0m \u001b[0;36m240\u001b[0m\u001b[0;34m\u001b[0m\u001b[0;34m\u001b[0m\u001b[0m\n\u001b[0m\u001b[1;32m      4\u001b[0m \u001b[0mprint\u001b[0m\u001b[0;34m(\u001b[0m\u001b[0mt\u001b[0m\u001b[0;34m)\u001b[0m\u001b[0;34m\u001b[0m\u001b[0;34m\u001b[0m\u001b[0m\n",
            "\u001b[0;31mTypeError\u001b[0m: 'tuple' object does not support item assignment"
          ]
        }
      ]
    },
    {
      "cell_type": "code",
      "source": [
        "# functions with tuples\n",
        "print(t.count(9))\n",
        "print(t.count(5))\n",
        "print(t.index(5))\n",
        "print(sorted(t))\n",
        "print(len(t))\n",
        "print(sum(t))\n",
        "print(max(t))\n",
        "print(min(t))\n",
        "\n",
        "\n",
        "# Tuples conatining Elements\n",
        "\n",
        "tuple_1 = (1,\"two\",2.5)\n",
        "print(tuple_1)\n",
        "\n",
        "\n",
        "# Concatination of tuple\n",
        "new_tuple = t + tuple_1\n",
        "print(new_tuple)"
      ],
      "metadata": {
        "colab": {
          "base_uri": "https://localhost:8080/"
        },
        "id": "1KzconSPFncK",
        "outputId": "55aad191-6382-4e62-a7bd-fd8d70b3712f"
      },
      "execution_count": 26,
      "outputs": [
        {
          "output_type": "stream",
          "name": "stdout",
          "text": [
            "0\n",
            "2\n",
            "1\n",
            "[2, 3, 4, 4, 5, 5, 7, 45, 58, 2165]\n",
            "10\n",
            "2298\n",
            "2165\n",
            "2\n",
            "(1, 'two', 2.5)\n",
            "(4, 5, 3, 4, 5, 2, 7, 2165, 58, 45, 1, 'two', 2.5)\n"
          ]
        }
      ]
    },
    {
      "cell_type": "code",
      "source": [
        "a=('hi,') * 6\n",
        "print(a)"
      ],
      "metadata": {
        "colab": {
          "base_uri": "https://localhost:8080/"
        },
        "id": "v-Dujk8CJudS",
        "outputId": "b0bff2f5-3f49-41a4-f2f8-e80f1b59438c"
      },
      "execution_count": 24,
      "outputs": [
        {
          "output_type": "stream",
          "name": "stdout",
          "text": [
            "hi,hi,hi,hi,hi,hi,\n"
          ]
        }
      ]
    }
  ]
}